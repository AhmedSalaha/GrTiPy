{
 "cells": [
  {
   "cell_type": "markdown",
   "metadata": {},
   "source": [
    "# Example: Equation of motion (Field Equation)"
   ]
  },
  {
   "cell_type": "markdown",
   "metadata": {},
   "source": [
    "Let us consider a metric in the form \\cite{Thiago}\n",
    "\\begin{equation}\n",
    "    ds^2=e^{2\\gamma(r)} dt^2-e^{2\\gamma(r)} dr^2 - e^{2\\beta(r)}(d\\Sigma^2)\n",
    "\\end{equation}\n",
    "where\n",
    "\\begin{equation}\n",
    "    d\\Sigma^2=d\\theta^2+\\sin^2(\\theta)d\\phi^2\n",
    "\\end{equation}"
   ]
  },
  {
   "cell_type": "code",
   "execution_count": 1,
   "metadata": {
    "collapsed": true
   },
   "outputs": [],
   "source": [
    "from GrTiPy import *\n",
    "init_printing()"
   ]
  },
  {
   "cell_type": "code",
   "execution_count": 2,
   "metadata": {
    "collapsed": true
   },
   "outputs": [],
   "source": [
    "d=4\n",
    "t, r, theta, phi= symbols('t  r theta phi ')\n",
    "u=np.array([t, r, theta, phi])\n",
    "n, rho, P, pi, omega=symbols(' n rho P pi omega')\n",
    "gamma = Function('gamma')(r)\n",
    "alpha = Function('alpha')(r)\n",
    "beta = Function('beta')(r)\n",
    "phi = Function('phi')(r)\n",
    "g00 =   exp(2*gamma)\n",
    "g11 =  -exp(2*alpha)\n",
    "g22 =  -exp(2*beta)\n",
    "g33 =  -exp(2*beta)*sin(theta)**2\n",
    "g=np.array([[g00,0,0,0],[0,g11,0,0],\\\n",
    "            [0,0,g22,0],[0,0,0,g33]])\n",
    "gin=inverse_metric(g)"
   ]
  },
  {
   "cell_type": "markdown",
   "metadata": {},
   "source": [
    "The Christoffel symbols"
   ]
  },
  {
   "cell_type": "code",
   "execution_count": 3,
   "metadata": {
    "collapsed": false
   },
   "outputs": [
    {
     "name": "stdout",
     "output_type": "stream",
     "text": [
      "G( t t r )= Derivative(gamma(r), r)\n",
      "G( t r t )= Derivative(gamma(r), r)\n",
      "G( r t t )= exp(-2*alpha(r) + 2*gamma(r))*Derivative(gamma(r), r)\n",
      "G( r r r )= Derivative(alpha(r), r)\n",
      "G( r theta theta )= -exp(-2*alpha(r) + 2*beta(r))*Derivative(beta(r), r)\n",
      "G( r phi phi )= -exp(-2*alpha(r) + 2*beta(r))*sin(theta)**2*Derivative(beta(r), r)\n",
      "G( theta r theta )= Derivative(beta(r), r)\n",
      "G( theta theta r )= Derivative(beta(r), r)\n",
      "G( theta phi phi )= -sin(2*theta)/2\n",
      "G( phi r phi )= Derivative(beta(r), r)\n",
      "G( phi theta phi )= 1/tan(theta)\n",
      "G( phi phi r )= Derivative(beta(r), r)\n",
      "G( phi phi theta )= 1/tan(theta)\n"
     ]
    }
   ],
   "source": [
    "for i in range(d):\n",
    "    for j in range(d):\n",
    "        for k in range(d):\n",
    "            if Christoffel_n_ab(d,u,g,gin,i,j,k) !=0:\n",
    "                print(\"G(\", u[i] ,u[j],u[k], \")=\"\\\n",
    "                , simplify(Christoffel_n_ab(d,u,g,gin,i,j,k)))"
   ]
  },
  {
   "cell_type": "markdown",
   "metadata": {},
   "source": [
    "Ricci tensor $R^\\mu_\\nu=g^{\\mu\\delta} R_{\\delta\\nu}$ "
   ]
  },
  {
   "cell_type": "code",
   "execution_count": 4,
   "metadata": {
    "collapsed": true
   },
   "outputs": [],
   "source": [
    "def R(d,u,g,gin,a,b):\n",
    "    sum=0.0\n",
    "    for i in range(d):\n",
    "        sum=sum+gin[a][i]*Ricci_Tensor_ab(d,u,g,gin,i,b)\n",
    "    return sum"
   ]
  },
  {
   "cell_type": "markdown",
   "metadata": {},
   "source": [
    "$$R^0_0$$"
   ]
  },
  {
   "cell_type": "code",
   "execution_count": 5,
   "metadata": {
    "collapsed": false
   },
   "outputs": [
    {
     "data": {
      "image/png": "[encoded data removed]",
      "text/latex": [
       "$$\\left(- \\frac{d}{d r} \\alpha{\\left (r \\right )} \\frac{d}{d r} \\Gamma\\left(r\\right) + 2 \\frac{d}{d r} \\beta{\\left (r \\right )} \\frac{d}{d r} \\Gamma\\left(r\\right) + \\frac{d}{d r} \\Gamma\\left(r\\right)^{2} + \\frac{d^{2}}{d r^{2}}  \\Gamma\\left(r\\right)\\right) e^{- 2 \\alpha{\\left (r \\right )}}$$"
      ],
      "text/plain": [
       "⎛                                                      2     2      ⎞         \n",
       "⎜  d        d            d        d          ⎛d       ⎞     d       ⎟  -2⋅α(r)\n",
       "⎜- ──(α(r))⋅──(Γ(r)) + 2⋅──(β(r))⋅──(Γ(r)) + ⎜──(Γ(r))⎟  + ───(Γ(r))⎟⋅ℯ       \n",
       "⎜  dr       dr           dr       dr         ⎝dr      ⎠      2      ⎟         \n",
       "⎝                                                          dr       ⎠         "
      ]
     },
     "execution_count": 5,
     "metadata": {},
     "output_type": "execute_result"
    }
   ],
   "source": [
    "simplify(R(d,u,g,gin,0,0))"
   ]
  },
  {
   "cell_type": "markdown",
   "metadata": {},
   "source": [
    "$$R^1_1$$"
   ]
  },
  {
   "cell_type": "code",
   "execution_count": 6,
   "metadata": {
    "collapsed": false
   },
   "outputs": [
    {
     "data": {
      "image/png": "[encoded data removed]",
      "text/latex": [
       "$$\\left(- 2 \\frac{d}{d r} \\alpha{\\left (r \\right )} \\frac{d}{d r} \\beta{\\left (r \\right )} - \\frac{d}{d r} \\alpha{\\left (r \\right )} \\frac{d}{d r} \\Gamma\\left(r\\right) + 2 \\frac{d}{d r} \\beta{\\left (r \\right )}^{2} + \\frac{d}{d r} \\Gamma\\left(r\\right)^{2} + 2 \\frac{d^{2}}{d r^{2}}  \\beta{\\left (r \\right )} + \\frac{d^{2}}{d r^{2}}  \\Gamma\\left(r\\right)\\right) e^{- 2 \\alpha{\\left (r \\right )}}$$"
      ],
      "text/plain": [
       "⎛                                                        2             2      \n",
       "⎜    d        d          d        d            ⎛d       ⎞    ⎛d       ⎞       \n",
       "⎜- 2⋅──(α(r))⋅──(β(r)) - ──(α(r))⋅──(Γ(r)) + 2⋅⎜──(β(r))⎟  + ⎜──(Γ(r))⎟  + 2⋅─\n",
       "⎜    dr       dr         dr       dr           ⎝dr      ⎠    ⎝dr      ⎠       \n",
       "⎝                                                                            d\n",
       "\n",
       " 2           2      ⎞         \n",
       "d           d       ⎟  -2⋅α(r)\n",
       "──(β(r)) + ───(Γ(r))⎟⋅ℯ       \n",
       " 2           2      ⎟         \n",
       "r          dr       ⎠         "
      ]
     },
     "execution_count": 6,
     "metadata": {},
     "output_type": "execute_result"
    }
   ],
   "source": [
    "simplify(R(d,u,g,gin,1,1))"
   ]
  },
  {
   "cell_type": "markdown",
   "metadata": {},
   "source": [
    "$$R^2_2$$"
   ]
  },
  {
   "cell_type": "code",
   "execution_count": 7,
   "metadata": {
    "collapsed": false
   },
   "outputs": [
    {
     "data": {
      "image/png": "[encoded data removed]",
      "text/latex": [
       "$$- e^{- 2 \\beta{\\left (r \\right )}} - e^{- 2 \\alpha{\\left (r \\right )}} \\frac{d}{d r} \\alpha{\\left (r \\right )} \\frac{d}{d r} \\beta{\\left (r \\right )} + 2 e^{- 2 \\alpha{\\left (r \\right )}} \\frac{d}{d r} \\beta{\\left (r \\right )}^{2} + e^{- 2 \\alpha{\\left (r \\right )}} \\frac{d}{d r} \\beta{\\left (r \\right )} \\frac{d}{d r} \\Gamma\\left(r\\right) + e^{- 2 \\alpha{\\left (r \\right )}} \\frac{d^{2}}{d r^{2}}  \\beta{\\left (r \\right )}$$"
      ],
      "text/plain": [
       "                                                               2              \n",
       "   -2⋅β(r)    -2⋅α(r) d        d             -2⋅α(r) ⎛d       ⎞     -2⋅α(r) d \n",
       "- ℯ        - ℯ       ⋅──(α(r))⋅──(β(r)) + 2⋅ℯ       ⋅⎜──(β(r))⎟  + ℯ       ⋅──\n",
       "                      dr       dr                    ⎝dr      ⎠             dr\n",
       "                                                                              \n",
       "\n",
       "                             2      \n",
       "       d           -2⋅α(r)  d       \n",
       "(β(r))⋅──(Γ(r)) + ℯ       ⋅───(β(r))\n",
       "       dr                    2      \n",
       "                           dr       "
      ]
     },
     "execution_count": 7,
     "metadata": {},
     "output_type": "execute_result"
    }
   ],
   "source": [
    "simplify(R(d,u,g,gin,2,2))"
   ]
  },
  {
   "cell_type": "markdown",
   "metadata": {},
   "source": [
    "$$R^3_3$$"
   ]
  },
  {
   "cell_type": "code",
   "execution_count": 8,
   "metadata": {
    "collapsed": false
   },
   "outputs": [
    {
     "data": {
      "image/png": "[encoded data removed]",
      "text/latex": [
       "$$- e^{- 2 \\beta{\\left (r \\right )}} - e^{- 2 \\alpha{\\left (r \\right )}} \\frac{d}{d r} \\alpha{\\left (r \\right )} \\frac{d}{d r} \\beta{\\left (r \\right )} + 2 e^{- 2 \\alpha{\\left (r \\right )}} \\frac{d}{d r} \\beta{\\left (r \\right )}^{2} + e^{- 2 \\alpha{\\left (r \\right )}} \\frac{d}{d r} \\beta{\\left (r \\right )} \\frac{d}{d r} \\Gamma\\left(r\\right) + e^{- 2 \\alpha{\\left (r \\right )}} \\frac{d^{2}}{d r^{2}}  \\beta{\\left (r \\right )}$$"
      ],
      "text/plain": [
       "                                                               2              \n",
       "   -2⋅β(r)    -2⋅α(r) d        d             -2⋅α(r) ⎛d       ⎞     -2⋅α(r) d \n",
       "- ℯ        - ℯ       ⋅──(α(r))⋅──(β(r)) + 2⋅ℯ       ⋅⎜──(β(r))⎟  + ℯ       ⋅──\n",
       "                      dr       dr                    ⎝dr      ⎠             dr\n",
       "                                                                              \n",
       "\n",
       "                             2      \n",
       "       d           -2⋅α(r)  d       \n",
       "(β(r))⋅──(Γ(r)) + ℯ       ⋅───(β(r))\n",
       "       dr                    2      \n",
       "                           dr       "
      ]
     },
     "execution_count": 8,
     "metadata": {},
     "output_type": "execute_result"
    }
   ],
   "source": [
    "simplify(R(d,u,g,gin,3,3))"
   ]
  },
  {
   "cell_type": "markdown",
   "metadata": {},
   "source": [
    "the components of the Einstein tensor $G^\\mu_\\nu=g^{\\mu\\delta} G_{\\delta\\nu}$ "
   ]
  },
  {
   "cell_type": "code",
   "execution_count": 16,
   "metadata": {
    "collapsed": true
   },
   "outputs": [],
   "source": [
    "def G(d,u,g,gin,a,b):\n",
    "    SumG=0.0\n",
    "    for i in range(d):\n",
    "        SumG=SumG+gin[a][i]*\\\n",
    "        Einstein_Equation_ab(d,u,g,gin,i,b)\n",
    "    return SumG"
   ]
  },
  {
   "cell_type": "markdown",
   "metadata": {},
   "source": [
    "$$G^0_0$$"
   ]
  },
  {
   "cell_type": "code",
   "execution_count": 17,
   "metadata": {
    "collapsed": false
   },
   "outputs": [
    {
     "data": {
      "image/png": "[encoded data removed]",
      "text/latex": [
       "$$1.0 e^{- 2 \\beta{\\left (r \\right )}} + 2.0 e^{- 2 \\alpha{\\left (r \\right )}} \\frac{d}{d r} \\alpha{\\left (r \\right )} \\frac{d}{d r} \\beta{\\left (r \\right )} - 3.0 e^{- 2 \\alpha{\\left (r \\right )}} \\frac{d}{d r} \\beta{\\left (r \\right )}^{2} - 2.0 e^{- 2 \\alpha{\\left (r \\right )}} \\frac{d^{2}}{d r^{2}}  \\beta{\\left (r \\right )}$$"
      ],
      "text/plain": [
       "                                                                       2      \n",
       "     -2⋅β(r)        -2⋅α(r) d        d               -2⋅α(r) ⎛d       ⎞       \n",
       "1.0⋅ℯ        + 2.0⋅ℯ       ⋅──(α(r))⋅──(β(r)) - 3.0⋅ℯ       ⋅⎜──(β(r))⎟  - 2.0\n",
       "                            dr       dr                      ⎝dr      ⎠       \n",
       "                                                                              \n",
       "\n",
       "            2      \n",
       "  -2⋅α(r)  d       \n",
       "⋅ℯ       ⋅───(β(r))\n",
       "            2      \n",
       "          dr       "
      ]
     },
     "execution_count": 17,
     "metadata": {},
     "output_type": "execute_result"
    }
   ],
   "source": [
    "simplify(G(d,u,g,gin,0,0))"
   ]
  },
  {
   "cell_type": "markdown",
   "metadata": {},
   "source": [
    "$$G^1_1$$"
   ]
  },
  {
   "cell_type": "code",
   "execution_count": 18,
   "metadata": {
    "collapsed": false
   },
   "outputs": [
    {
     "data": {
      "image/png": "[encoded data removed]",
      "text/latex": [
       "$$1.0 e^{- 2 \\beta{\\left (r \\right )}} - 1.0 e^{- 2 \\alpha{\\left (r \\right )}} \\frac{d}{d r} \\beta{\\left (r \\right )}^{2} - 2.0 e^{- 2 \\alpha{\\left (r \\right )}} \\frac{d}{d r} \\beta{\\left (r \\right )} \\frac{d}{d r} \\Gamma\\left(r\\right)$$"
      ],
      "text/plain": [
       "                                      2                                 \n",
       "     -2⋅β(r)        -2⋅α(r) ⎛d       ⎞         -2⋅α(r) d        d       \n",
       "1.0⋅ℯ        - 1.0⋅ℯ       ⋅⎜──(β(r))⎟  - 2.0⋅ℯ       ⋅──(β(r))⋅──(Γ(r))\n",
       "                            ⎝dr      ⎠                 dr       dr      "
      ]
     },
     "execution_count": 18,
     "metadata": {},
     "output_type": "execute_result"
    }
   ],
   "source": [
    "simplify(G(d,u,g,gin,1,1))"
   ]
  },
  {
   "cell_type": "markdown",
   "metadata": {},
   "source": [
    "$$G^2_2$$"
   ]
  },
  {
   "cell_type": "code",
   "execution_count": 19,
   "metadata": {
    "collapsed": false
   },
   "outputs": [
    {
     "data": {
      "image/png": "[encoded data removed]",
      "text/latex": [
       "$$1.0 \\left(\\sinh{\\left (2 \\alpha{\\left (r \\right )} \\right )} - \\cosh{\\left (2 \\alpha{\\left (r \\right )} \\right )}\\right) \\left(- \\frac{d}{d r} \\alpha{\\left (r \\right )} \\frac{d}{d r} \\beta{\\left (r \\right )} - \\frac{d}{d r} \\alpha{\\left (r \\right )} \\frac{d}{d r} \\Gamma\\left(r\\right) + \\frac{d}{d r} \\beta{\\left (r \\right )}^{2} + \\frac{d}{d r} \\beta{\\left (r \\right )} \\frac{d}{d r} \\Gamma\\left(r\\right) + \\frac{d}{d r} \\Gamma\\left(r\\right)^{2} + \\frac{d^{2}}{d r^{2}}  \\beta{\\left (r \\right )} + \\frac{d^{2}}{d r^{2}}  \\Gamma\\left(r\\right)\\right)$$"
      ],
      "text/plain": [
       "                                  ⎛                                           \n",
       "                                  ⎜  d        d          d        d          ⎛\n",
       "1.0⋅(sinh(2⋅α(r)) - cosh(2⋅α(r)))⋅⎜- ──(α(r))⋅──(β(r)) - ──(α(r))⋅──(Γ(r)) + ⎜\n",
       "                                  ⎜  dr       dr         dr       dr         ⎝\n",
       "                                  ⎝                                           \n",
       "\n",
       "         2                                 2     2           2      ⎞\n",
       "d       ⎞    d        d          ⎛d       ⎞     d           d       ⎟\n",
       "──(β(r))⎟  + ──(β(r))⋅──(Γ(r)) + ⎜──(Γ(r))⎟  + ───(β(r)) + ───(Γ(r))⎟\n",
       "dr      ⎠    dr       dr         ⎝dr      ⎠      2           2      ⎟\n",
       "                                               dr          dr       ⎠"
      ]
     },
     "execution_count": 19,
     "metadata": {},
     "output_type": "execute_result"
    }
   ],
   "source": [
    "simplify(G(d,u,g,gin,2,2))"
   ]
  },
  {
   "cell_type": "markdown",
   "metadata": {},
   "source": [
    "$$G^3_3$$"
   ]
  },
  {
   "cell_type": "code",
   "execution_count": 25,
   "metadata": {
    "collapsed": false
   },
   "outputs": [
    {
     "data": {
      "image/png": "[encoded data removed]",
      "text/latex": [
       "$$1.0 \\left(\\sinh{\\left (2 \\alpha{\\left (r \\right )} \\right )} - \\cosh{\\left (2 \\alpha{\\left (r \\right )} \\right )}\\right) \\left(- \\frac{d}{d r} \\alpha{\\left (r \\right )} \\frac{d}{d r} \\beta{\\left (r \\right )} - \\frac{d}{d r} \\alpha{\\left (r \\right )} \\frac{d}{d r} \\Gamma\\left(r\\right) + \\frac{d}{d r} \\beta{\\left (r \\right )}^{2} + \\frac{d}{d r} \\beta{\\left (r \\right )} \\frac{d}{d r} \\Gamma\\left(r\\right) + \\frac{d}{d r} \\Gamma\\left(r\\right)^{2} + \\frac{d^{2}}{d r^{2}}  \\beta{\\left (r \\right )} + \\frac{d^{2}}{d r^{2}}  \\Gamma\\left(r\\right)\\right)$$"
      ],
      "text/plain": [
       "                                  ⎛                                           \n",
       "                                  ⎜  d        d          d        d          ⎛\n",
       "1.0⋅(sinh(2⋅α(r)) - cosh(2⋅α(r)))⋅⎜- ──(α(r))⋅──(β(r)) - ──(α(r))⋅──(Γ(r)) + ⎜\n",
       "                                  ⎜  dr       dr         dr       dr         ⎝\n",
       "                                  ⎝                                           \n",
       "\n",
       "         2                                 2     2           2      ⎞\n",
       "d       ⎞    d        d          ⎛d       ⎞     d           d       ⎟\n",
       "──(β(r))⎟  + ──(β(r))⋅──(Γ(r)) + ⎜──(Γ(r))⎟  + ───(β(r)) + ───(Γ(r))⎟\n",
       "dr      ⎠    dr       dr         ⎝dr      ⎠      2           2      ⎟\n",
       "                                               dr          dr       ⎠"
      ]
     },
     "execution_count": 25,
     "metadata": {},
     "output_type": "execute_result"
    }
   ],
   "source": [
    "simplify(G(d,u,g,gin,3,3))"
   ]
  },
  {
   "cell_type": "markdown",
   "metadata": {},
   "source": [
    "Ricci scalr is $$R$$"
   ]
  },
  {
   "cell_type": "code",
   "execution_count": 15,
   "metadata": {
    "collapsed": false
   },
   "outputs": [
    {
     "data": {
      "image/png": "[encoded data removed]",
      "text/latex": [
       "$$- 2 e^{- 2 \\beta{\\left (r \\right )}} - 4 e^{- 2 \\alpha{\\left (r \\right )}} \\frac{d}{d r} \\alpha{\\left (r \\right )} \\frac{d}{d r} \\beta{\\left (r \\right )} - 2 e^{- 2 \\alpha{\\left (r \\right )}} \\frac{d}{d r} \\alpha{\\left (r \\right )} \\frac{d}{d r} \\Gamma\\left(r\\right) + 6 e^{- 2 \\alpha{\\left (r \\right )}} \\frac{d}{d r} \\beta{\\left (r \\right )}^{2} + 4 e^{- 2 \\alpha{\\left (r \\right )}} \\frac{d}{d r} \\beta{\\left (r \\right )} \\frac{d}{d r} \\Gamma\\left(r\\right) + 2 e^{- 2 \\alpha{\\left (r \\right )}} \\frac{d}{d r} \\Gamma\\left(r\\right)^{2} + 4 e^{- 2 \\alpha{\\left (r \\right )}} \\frac{d^{2}}{d r^{2}}  \\beta{\\left (r \\right )} + 2 e^{- 2 \\alpha{\\left (r \\right )}} \\frac{d^{2}}{d r^{2}}  \\Gamma\\left(r\\right)$$"
      ],
      "text/plain": [
       "                                                                              \n",
       "     -2⋅β(r)      -2⋅α(r) d        d             -2⋅α(r) d        d           \n",
       "- 2⋅ℯ        - 4⋅ℯ       ⋅──(α(r))⋅──(β(r)) - 2⋅ℯ       ⋅──(α(r))⋅──(Γ(r)) + 6\n",
       "                          dr       dr                    dr       dr          \n",
       "                                                                              \n",
       "\n",
       "                    2                                                       2 \n",
       "  -2⋅α(r) ⎛d       ⎞       -2⋅α(r) d        d             -2⋅α(r) ⎛d       ⎞  \n",
       "⋅ℯ       ⋅⎜──(β(r))⎟  + 4⋅ℯ       ⋅──(β(r))⋅──(Γ(r)) + 2⋅ℯ       ⋅⎜──(Γ(r))⎟  \n",
       "          ⎝dr      ⎠               dr       dr                    ⎝dr      ⎠  \n",
       "                                                                              \n",
       "\n",
       "               2                      2      \n",
       "     -2⋅α(r)  d             -2⋅α(r)  d       \n",
       "+ 4⋅ℯ       ⋅───(β(r)) + 2⋅ℯ       ⋅───(Γ(r))\n",
       "               2                      2      \n",
       "             dr                     dr       "
      ]
     },
     "execution_count": 15,
     "metadata": {},
     "output_type": "execute_result"
    }
   ],
   "source": [
    "simplify(Ricci_scalar(d,u,g,gin))"
   ]
  }
 ],
 "metadata": {
  "anaconda-cloud": {},
  "kernelspec": {
   "display_name": "Python [conda root]",
   "language": "python",
   "name": "conda-root-py"
  },
  "language_info": {
   "codemirror_mode": {
    "name": "ipython",
    "version": 3
   },
   "file_extension": ".py",
   "mimetype": "text/x-python",
   "name": "python",
   "nbconvert_exporter": "python",
   "pygments_lexer": "ipython3",
   "version": "3.5.2"
  }
 },
 "nbformat": 4,
 "nbformat_minor": 1
}
