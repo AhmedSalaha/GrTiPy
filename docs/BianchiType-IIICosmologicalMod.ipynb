{
 "cells": [
  {
   "cell_type": "markdown",
   "metadata": {},
   "source": [
    "# Bianchi Type-III Cosmological Model with Negative Constant Deceleration Parameter in Brans Dicke Theory of Gravitation\n",
    "# by K.S. Adhav · A.S. Nimkar · M.R. Ugale · M.V. Dawande, Int J Theor Phys (2008) 47: 634–639"
   ]
  },
  {
   "cell_type": "code",
   "execution_count": 8,
   "metadata": {
    "collapsed": true
   },
   "outputs": [],
   "source": [
    "from GrTiPy import *\n",
    "init_printing()"
   ]
  },
  {
   "cell_type": "code",
   "execution_count": 9,
   "metadata": {
    "collapsed": true
   },
   "outputs": [],
   "source": [
    "d=4\n",
    "t, x, y, z, a, rho, P= symbols('t x y z a rho P')\n",
    "u=np.array([t, x, y, z])\n",
    "A = Function('A')(t)\n",
    "B = Function('B')(t)\n",
    "C = Function('C')(t)"
   ]
  },
  {
   "cell_type": "code",
   "execution_count": 10,
   "metadata": {
    "collapsed": false
   },
   "outputs": [],
   "source": [
    "g00 =  1\n",
    "g11 =  -A**2\n",
    "g22 =  -B**2*exp(-2*a*x)\n",
    "g33 =  -C**2\n",
    "g=np.array([[g00,0,0,0],[0,g11,0,0],\\\n",
    "            [0,0,g22,0],[0,0,0,g33]])\n",
    "gin=inverse_metric(g)"
   ]
  },
  {
   "cell_type": "code",
   "execution_count": 11,
   "metadata": {
    "collapsed": false
   },
   "outputs": [
    {
     "data": {
      "text/plain": [
       "array([[1, 0, 0, 0],\n",
       "       [0, -A(t)**2, 0, 0],\n",
       "       [0, 0, -B(t)**2*exp(-2*a*x), 0],\n",
       "       [0, 0, 0, -C(t)**2]], dtype=object)"
      ]
     },
     "execution_count": 11,
     "metadata": {},
     "output_type": "execute_result"
    }
   ],
   "source": [
    "g"
   ]
  },
  {
   "cell_type": "code",
   "execution_count": 12,
   "metadata": {
    "collapsed": true
   },
   "outputs": [],
   "source": [
    "T=np.array([[rho,0,0,0],[0,-P,0,0],\\\n",
    "            [0,0,-P,0],[0,0,0,-P]])"
   ]
  },
  {
   "cell_type": "code",
   "execution_count": 13,
   "metadata": {
    "collapsed": true
   },
   "outputs": [],
   "source": [
    "phi = Function('phi')(t)"
   ]
  },
  {
   "cell_type": "code",
   "execution_count": 14,
   "metadata": {
    "collapsed": false
   },
   "outputs": [
    {
     "data": {
      "image/png": "[encoded data removed]",
      "text/latex": [
       "$$\\frac{2 \\lambda \\phi{\\left (t \\right )}}{2 omaga + 3} - \\frac{8 \\pi \\left(- 3 P + \\rho\\right)}{2 omaga + 3} + \\frac{d^{2}}{d t^{2}}  \\phi{\\left (t \\right )} + \\frac{\\frac{d}{d t} C{\\left (t \\right )}}{C{\\left (t \\right )}} \\frac{d}{d t} \\phi{\\left (t \\right )} + \\frac{\\frac{d}{d t} B{\\left (t \\right )}}{B{\\left (t \\right )}} \\frac{d}{d t} \\phi{\\left (t \\right )} + \\frac{\\frac{d}{d t} A{\\left (t \\right )}}{A{\\left (t \\right )}} \\frac{d}{d t} \\phi{\\left (t \\right )}$$"
      ],
      "text/plain": [
       "                                           d        d          d        d     \n",
       "                                 2         ──(C(t))⋅──(φ(t))   ──(B(t))⋅──(φ(t\n",
       "  2⋅λ⋅φ(t)    8⋅π⋅(-3⋅P + ρ)    d          dt       dt         dt       dt    \n",
       "─────────── - ────────────── + ───(φ(t)) + ───────────────── + ───────────────\n",
       "2⋅omaga + 3    2⋅omaga + 3       2                C(t)                B(t)    \n",
       "                               dt                                             \n",
       "\n",
       "     d        d       \n",
       "))   ──(A(t))⋅──(φ(t))\n",
       "     dt       dt      \n",
       "── + ─────────────────\n",
       "            A(t)      \n",
       "                      "
      ]
     },
     "execution_count": 14,
     "metadata": {},
     "output_type": "execute_result"
    }
   ],
   "source": [
    "Scalar_Brans_Dicke_field_Equation(d,u,g,gin,phi,T)"
   ]
  },
  {
   "cell_type": "code",
   "execution_count": 15,
   "metadata": {
    "collapsed": false
   },
   "outputs": [
    {
     "data": {
      "image/png": "[encoded data removed]",
      "text/latex": [
       "$$- \\frac{1.0 a^{2}}{A^{2}{\\left (t \\right )}} + \\frac{0.5 \\omega \\frac{d}{d t} \\phi{\\left (t \\right )}^{2}}{\\phi^{2}{\\left (t \\right )}} + \\frac{1.0 \\frac{d}{d t} C{\\left (t \\right )} \\frac{d}{d t} \\phi{\\left (t \\right )}}{C{\\left (t \\right )} \\phi{\\left (t \\right )}} + \\frac{1.0 \\frac{d}{d t} B{\\left (t \\right )} \\frac{d}{d t} \\phi{\\left (t \\right )}}{B{\\left (t \\right )} \\phi{\\left (t \\right )}} + \\frac{1.0 \\frac{d}{d t} B{\\left (t \\right )} \\frac{d}{d t} C{\\left (t \\right )}}{B{\\left (t \\right )} C{\\left (t \\right )}} + \\frac{1.0 \\frac{d}{d t} A{\\left (t \\right )} \\frac{d}{d t} \\phi{\\left (t \\right )}}{A{\\left (t \\right )} \\phi{\\left (t \\right )}} + \\frac{1.0 \\frac{d}{d t} A{\\left (t \\right )} \\frac{d}{d t} C{\\left (t \\right )}}{A{\\left (t \\right )} C{\\left (t \\right )}} + \\frac{1.0 \\frac{d}{d t} A{\\left (t \\right )} \\frac{d}{d t} B{\\left (t \\right )}}{A{\\left (t \\right )} B{\\left (t \\right )}}$$"
      ],
      "text/plain": [
       "                           2                                                  \n",
       "                 ⎛d       ⎞        d        d              d        d         \n",
       "       2   0.5⋅ω⋅⎜──(φ(t))⎟    1.0⋅──(C(t))⋅──(φ(t))   1.0⋅──(B(t))⋅──(φ(t))  \n",
       "  1.0⋅a          ⎝dt      ⎠        dt       dt             dt       dt        \n",
       "- ────── + ───────────────── + ───────────────────── + ───────────────────── +\n",
       "   2              2                  C(t)⋅φ(t)               B(t)⋅φ(t)        \n",
       "  A (t)          φ (t)                                                        \n",
       "\n",
       "                                                                              \n",
       "     d        d              d        d              d        d              d\n",
       " 1.0⋅──(B(t))⋅──(C(t))   1.0⋅──(A(t))⋅──(φ(t))   1.0⋅──(A(t))⋅──(C(t))   1.0⋅─\n",
       "     dt       dt             dt       dt             dt       dt             d\n",
       " ───────────────────── + ───────────────────── + ───────────────────── + ─────\n",
       "       B(t)⋅C(t)               A(t)⋅φ(t)               A(t)⋅C(t)              \n",
       "                                                                              \n",
       "\n",
       "                \n",
       "        d       \n",
       "─(A(t))⋅──(B(t))\n",
       "t       dt      \n",
       "────────────────\n",
       " A(t)⋅B(t)      \n",
       "                "
      ]
     },
     "execution_count": 15,
     "metadata": {},
     "output_type": "execute_result"
    }
   ],
   "source": [
    "simplify(Brans_Dicke_Equations_ab(d,u,g,gin,phi,0,0))"
   ]
  },
  {
   "cell_type": "code",
   "execution_count": 17,
   "metadata": {
    "collapsed": false
   },
   "outputs": [
    {
     "data": {
      "image/png": "[encoded data removed]",
      "text/latex": [
       "$$\\frac{0.5 \\omega \\frac{d}{d t} \\phi{\\left (t \\right )}^{2}}{\\phi^{2}{\\left (t \\right )}} - \\frac{1.0 \\frac{d^{2}}{d t^{2}}  \\phi{\\left (t \\right )}}{\\phi{\\left (t \\right )}} - \\frac{1.0 \\frac{d^{2}}{d t^{2}}  C{\\left (t \\right )}}{C{\\left (t \\right )}} - \\frac{1.0 \\frac{d}{d t} C{\\left (t \\right )} \\frac{d}{d t} \\phi{\\left (t \\right )}}{C{\\left (t \\right )} \\phi{\\left (t \\right )}} - \\frac{1.0 \\frac{d^{2}}{d t^{2}}  B{\\left (t \\right )}}{B{\\left (t \\right )}} - \\frac{1.0 \\frac{d}{d t} B{\\left (t \\right )} \\frac{d}{d t} \\phi{\\left (t \\right )}}{B{\\left (t \\right )} \\phi{\\left (t \\right )}} - \\frac{1.0 \\frac{d}{d t} B{\\left (t \\right )} \\frac{d}{d t} C{\\left (t \\right )}}{B{\\left (t \\right )} C{\\left (t \\right )}} - \\frac{1.0 \\frac{d}{d t} A{\\left (t \\right )} \\frac{d}{d t} \\phi{\\left (t \\right )}}{A{\\left (t \\right )} \\phi{\\left (t \\right )}}$$"
      ],
      "text/plain": [
       "                          2               2                                   \n",
       "                2        d               d                                    \n",
       "      ⎛d       ⎞    1.0⋅───(φ(t))   1.0⋅───(C(t))       d        d          1.\n",
       "0.5⋅ω⋅⎜──(φ(t))⎟          2               2         1.0⋅──(C(t))⋅──(φ(t))     \n",
       "      ⎝dt      ⎠        dt              dt              dt       dt           \n",
       "───────────────── - ───────────── - ───────────── - ───────────────────── - ──\n",
       "       2                 φ(t)            C(t)             C(t)⋅φ(t)           \n",
       "      φ (t)                                                                   \n",
       "\n",
       "    2                                                                         \n",
       "   d                                                                          \n",
       "0⋅───(B(t))       d        d              d        d              d        d  \n",
       "    2         1.0⋅──(B(t))⋅──(φ(t))   1.0⋅──(B(t))⋅──(C(t))   1.0⋅──(A(t))⋅──(\n",
       "  dt              dt       dt             dt       dt             dt       dt \n",
       "─────────── - ───────────────────── - ───────────────────── - ────────────────\n",
       "   B(t)             B(t)⋅φ(t)               B(t)⋅C(t)               A(t)⋅φ(t) \n",
       "                                                                              \n",
       "\n",
       "     \n",
       "     \n",
       "     \n",
       "φ(t))\n",
       "     \n",
       "─────\n",
       "     \n",
       "     "
      ]
     },
     "execution_count": 17,
     "metadata": {},
     "output_type": "execute_result"
    }
   ],
   "source": [
    "simplify(Brans_Dicke_Equations_ab(d,u,g,gin,phi,1,1)/A**2)"
   ]
  },
  {
   "cell_type": "code",
   "execution_count": 19,
   "metadata": {
    "collapsed": false
   },
   "outputs": [
    {
     "data": {
      "image/png": "[encoded data removed]",
      "text/latex": [
       "$$\\frac{1.0 B{\\left (t \\right )} e^{- 2 a x}}{A{\\left (t \\right )} C{\\left (t \\right )} \\phi^{2}{\\left (t \\right )}} \\left(0.5 \\omega A{\\left (t \\right )} B{\\left (t \\right )} C{\\left (t \\right )} \\frac{d}{d t} \\phi{\\left (t \\right )}^{2} - 1.0 A{\\left (t \\right )} B{\\left (t \\right )} C{\\left (t \\right )} \\phi{\\left (t \\right )} \\frac{d^{2}}{d t^{2}}  \\phi{\\left (t \\right )} - 1.0 A{\\left (t \\right )} B{\\left (t \\right )} \\phi^{2}{\\left (t \\right )} \\frac{d^{2}}{d t^{2}}  C{\\left (t \\right )} - 1.0 A{\\left (t \\right )} B{\\left (t \\right )} \\phi{\\left (t \\right )} \\frac{d}{d t} C{\\left (t \\right )} \\frac{d}{d t} \\phi{\\left (t \\right )} - 1.0 A{\\left (t \\right )} C{\\left (t \\right )} \\phi{\\left (t \\right )} \\frac{d}{d t} B{\\left (t \\right )} \\frac{d}{d t} \\phi{\\left (t \\right )} - 1.0 B{\\left (t \\right )} C{\\left (t \\right )} \\phi^{2}{\\left (t \\right )} \\frac{d^{2}}{d t^{2}}  A{\\left (t \\right )} - 1.0 B{\\left (t \\right )} C{\\left (t \\right )} \\phi{\\left (t \\right )} \\frac{d}{d t} A{\\left (t \\right )} \\frac{d}{d t} \\phi{\\left (t \\right )} - 1.0 B{\\left (t \\right )} \\phi^{2}{\\left (t \\right )} \\frac{d}{d t} A{\\left (t \\right )} \\frac{d}{d t} C{\\left (t \\right )}\\right)$$"
      ],
      "text/plain": [
       "    ⎛                               2                             2           \n",
       "    ⎜                     ⎛d       ⎞                             d            \n",
       "1.0⋅⎜0.5⋅ω⋅A(t)⋅B(t)⋅C(t)⋅⎜──(φ(t))⎟  - 1.0⋅A(t)⋅B(t)⋅C(t)⋅φ(t)⋅───(φ(t)) - 1.\n",
       "    ⎜                     ⎝dt      ⎠                              2           \n",
       "    ⎝                                                           dt            \n",
       "──────────────────────────────────────────────────────────────────────────────\n",
       "                                                                              \n",
       "                                                                              \n",
       "\n",
       "                    2                                                         \n",
       "             2     d                             d        d                   \n",
       "0⋅A(t)⋅B(t)⋅φ (t)⋅───(C(t)) - 1.0⋅A(t)⋅B(t)⋅φ(t)⋅──(C(t))⋅──(φ(t)) - 1.0⋅A(t)⋅\n",
       "                    2                            dt       dt                  \n",
       "                  dt                                                          \n",
       "──────────────────────────────────────────────────────────────────────────────\n",
       "                                                                             2\n",
       "                                                                  A(t)⋅C(t)⋅φ \n",
       "\n",
       "                                                    2                         \n",
       "          d        d                         2     d                          \n",
       "C(t)⋅φ(t)⋅──(B(t))⋅──(φ(t)) - 1.0⋅B(t)⋅C(t)⋅φ (t)⋅───(A(t)) - 1.0⋅B(t)⋅C(t)⋅φ(\n",
       "          dt       dt                               2                         \n",
       "                                                  dt                          \n",
       "──────────────────────────────────────────────────────────────────────────────\n",
       "                                                                              \n",
       "(t)                                                                           \n",
       "\n",
       "                                                       ⎞             \n",
       "   d        d                    2    d        d       ⎟       -2⋅a⋅x\n",
       "t)⋅──(A(t))⋅──(φ(t)) - 1.0⋅B(t)⋅φ (t)⋅──(A(t))⋅──(C(t))⎟⋅B(t)⋅ℯ      \n",
       "   dt       dt                        dt       dt      ⎟             \n",
       "                                                       ⎠             \n",
       "─────────────────────────────────────────────────────────────────────\n",
       "                                                                     \n",
       "                                                                     "
      ]
     },
     "execution_count": 19,
     "metadata": {},
     "output_type": "execute_result"
    }
   ],
   "source": [
    "simplify(Brans_Dicke_Equations_ab(d,u,g,gin,phi,2,2))"
   ]
  },
  {
   "cell_type": "code",
   "execution_count": 21,
   "metadata": {
    "collapsed": false
   },
   "outputs": [
    {
     "data": {
      "image/png": "[encoded data removed]",
      "text/latex": [
       "$$\\frac{1.0 a^{2}}{A^{2}{\\left (t \\right )}} + \\frac{0.5 \\omega \\frac{d}{d t} \\phi{\\left (t \\right )}^{2}}{\\phi^{2}{\\left (t \\right )}} - \\frac{1.0 \\frac{d^{2}}{d t^{2}}  \\phi{\\left (t \\right )}}{\\phi{\\left (t \\right )}} - \\frac{1.0 \\frac{d}{d t} C{\\left (t \\right )} \\frac{d}{d t} \\phi{\\left (t \\right )}}{C{\\left (t \\right )} \\phi{\\left (t \\right )}} - \\frac{1.0 \\frac{d^{2}}{d t^{2}}  B{\\left (t \\right )}}{B{\\left (t \\right )}} - \\frac{1.0 \\frac{d}{d t} B{\\left (t \\right )} \\frac{d}{d t} \\phi{\\left (t \\right )}}{B{\\left (t \\right )} \\phi{\\left (t \\right )}} - \\frac{1.0 \\frac{d^{2}}{d t^{2}}  A{\\left (t \\right )}}{A{\\left (t \\right )}} - \\frac{1.0 \\frac{d}{d t} A{\\left (t \\right )} \\frac{d}{d t} \\phi{\\left (t \\right )}}{A{\\left (t \\right )} \\phi{\\left (t \\right )}} - \\frac{1.0 \\frac{d}{d t} A{\\left (t \\right )} \\frac{d}{d t} B{\\left (t \\right )}}{A{\\left (t \\right )} B{\\left (t \\right )}}$$"
      ],
      "text/plain": [
       "                                   2                                       2  \n",
       "                         2        d                                       d   \n",
       "               ⎛d       ⎞    1.0⋅───(φ(t))       d        d          1.0⋅───(B\n",
       "     2   0.5⋅ω⋅⎜──(φ(t))⎟          2         1.0⋅──(C(t))⋅──(φ(t))         2  \n",
       "1.0⋅a          ⎝dt      ⎠        dt              dt       dt             dt   \n",
       "────── + ───────────────── - ───────────── - ───────────────────── - ─────────\n",
       " 2              2                 φ(t)             C(t)⋅φ(t)              B(t)\n",
       "A (t)          φ (t)                                                          \n",
       "\n",
       "                                     2                                        \n",
       "                                    d                                         \n",
       "(t))       d        d          1.0⋅───(A(t))       d        d              d  \n",
       "       1.0⋅──(B(t))⋅──(φ(t))         2         1.0⋅──(A(t))⋅──(φ(t))   1.0⋅──(\n",
       "           dt       dt             dt              dt       dt             dt \n",
       "──── - ───────────────────── - ───────────── - ───────────────────── - ───────\n",
       "             B(t)⋅φ(t)              A(t)             A(t)⋅φ(t)               A\n",
       "                                                                              \n",
       "\n",
       "              \n",
       "              \n",
       "      d       \n",
       "A(t))⋅──(B(t))\n",
       "      dt      \n",
       "──────────────\n",
       "(t)⋅B(t)      \n",
       "              "
      ]
     },
     "execution_count": 21,
     "metadata": {},
     "output_type": "execute_result"
    }
   ],
   "source": [
    "simplify(Brans_Dicke_Equations_ab(d,u,g,gin,phi,3,3)/C**2)"
   ]
  },
  {
   "cell_type": "code",
   "execution_count": null,
   "metadata": {
    "collapsed": true
   },
   "outputs": [],
   "source": []
  }
 ],
 "metadata": {
  "anaconda-cloud": {},
  "kernelspec": {
   "display_name": "Python [conda root]",
   "language": "python",
   "name": "conda-root-py"
  },
  "language_info": {
   "codemirror_mode": {
    "name": "ipython",
    "version": 3
   },
   "file_extension": ".py",
   "mimetype": "text/x-python",
   "name": "python",
   "nbconvert_exporter": "python",
   "pygments_lexer": "ipython3",
   "version": "3.5.2"
  }
 },
 "nbformat": 4,
 "nbformat_minor": 1
}
