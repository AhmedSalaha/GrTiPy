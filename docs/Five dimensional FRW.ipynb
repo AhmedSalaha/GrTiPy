{
 "cells": [
  {
   "cell_type": "code",
   "execution_count": 27,
   "metadata": {
    "collapsed": true
   },
   "outputs": [],
   "source": [
    "from GrTiPy import *\n",
    "init_printing()"
   ]
  },
  {
   "cell_type": "code",
   "execution_count": 28,
   "metadata": {
    "collapsed": true
   },
   "outputs": [],
   "source": [
    "d=5\n",
    "t, r, theta, phi, psi= symbols('t r theta phi psi')\n",
    "u = np.array([t, r, theta, phi, psi])\n",
    "k = symbols('k')\n",
    "a = Function('a')(t)"
   ]
  },
  {
   "cell_type": "code",
   "execution_count": 29,
   "metadata": {
    "collapsed": true
   },
   "outputs": [],
   "source": [
    "g00 =   1\n",
    "g11 =  -a**2/(1-k*r**2)\n",
    "g22 =  -a**2*r**2\n",
    "g33 =  -a**2*r**2*sin(theta)**2\n",
    "g44 =  -a**2*(1-k*r**2)"
   ]
  },
  {
   "cell_type": "code",
   "execution_count": 30,
   "metadata": {
    "collapsed": true
   },
   "outputs": [],
   "source": [
    "g=np.array([[g00,0,0,0,0],[0,g11,0,0,0],\\\n",
    "            [0,0,g22,0,0],[0,0,0,g33,0],[0,0,0,0,g44]])\n",
    "gin=inverse_metric(g)"
   ]
  },
  {
   "cell_type": "code",
   "execution_count": 31,
   "metadata": {
    "collapsed": false
   },
   "outputs": [
    {
     "data": {
      "text/plain": [
       "array([[1, 0, 0, 0, 0],\n",
       "       [0, -a(t)**2/(-k*r**2 + 1), 0, 0, 0],\n",
       "       [0, 0, -r**2*a(t)**2, 0, 0],\n",
       "       [0, 0, 0, -r**2*a(t)**2*sin(theta)**2, 0],\n",
       "       [0, 0, 0, 0, -(-k*r**2 + 1)*a(t)**2]], dtype=object)"
      ]
     },
     "execution_count": 31,
     "metadata": {},
     "output_type": "execute_result"
    }
   ],
   "source": [
    "g"
   ]
  },
  {
   "cell_type": "code",
   "execution_count": 32,
   "metadata": {
    "collapsed": false
   },
   "outputs": [
    {
     "data": {
      "text/plain": [
       "array([[1, 0, 0, 0, 0],\n",
       "       [0, (k*r**2 - 1)/a(t)**2, 0, 0, 0],\n",
       "       [0, 0, -1/(r**2*a(t)**2), 0, 0],\n",
       "       [0, 0, 0, -1/(r**2*a(t)**2*sin(theta)**2), 0],\n",
       "       [0, 0, 0, 0, 1/((k*r**2 - 1)*a(t)**2)]], dtype=object)"
      ]
     },
     "execution_count": 32,
     "metadata": {},
     "output_type": "execute_result"
    }
   ],
   "source": [
    "gin"
   ]
  },
  {
   "cell_type": "code",
   "execution_count": 33,
   "metadata": {
    "collapsed": false
   },
   "outputs": [
    {
     "name": "stdout",
     "output_type": "stream",
     "text": [
      "G( t r r )= -a(t)*Derivative(a(t), t)/(k*r**2 - 1)\n",
      "G( t theta theta )= r**2*a(t)*Derivative(a(t), t)\n",
      "G( t phi phi )= r**2*a(t)*sin(theta)**2*Derivative(a(t), t)\n",
      "G( t psi psi )= (-k*r**2 + 1)*a(t)*Derivative(a(t), t)\n",
      "G( r t r )= Derivative(a(t), t)/a(t)\n",
      "G( r r t )= Derivative(a(t), t)/a(t)\n",
      "G( r r r )= -k*r/(k*r**2 - 1)\n",
      "G( r theta theta )= k*r**3 - r\n",
      "G( r phi phi )= r*(k*r**2 - 1)*sin(theta)**2\n",
      "G( r psi psi )= k*r*(-k*r**2 + 1)\n",
      "G( theta t theta )= Derivative(a(t), t)/a(t)\n",
      "G( theta r theta )= 1/r\n",
      "G( theta theta t )= Derivative(a(t), t)/a(t)\n",
      "G( theta theta r )= 1/r\n",
      "G( theta phi phi )= -sin(2*theta)/2\n",
      "G( phi t phi )= Derivative(a(t), t)/a(t)\n",
      "G( phi r phi )= 1/r\n",
      "G( phi theta phi )= 1/tan(theta)\n",
      "G( phi phi t )= Derivative(a(t), t)/a(t)\n",
      "G( phi phi r )= 1/r\n",
      "G( phi phi theta )= 1/tan(theta)\n",
      "G( psi t psi )= Derivative(a(t), t)/a(t)\n",
      "G( psi r psi )= k*r/(k*r**2 - 1)\n",
      "G( psi psi t )= Derivative(a(t), t)/a(t)\n",
      "G( psi psi r )= k*r/(k*r**2 - 1)\n"
     ]
    }
   ],
   "source": [
    "for i in range(d):\n",
    "    for j in range(d):\n",
    "        for k in range(d):\n",
    "            if Christoffel_n_ab(d,u,g,gin,i,j,k) !=0:\n",
    "                print(\"G(\", u[i] ,u[j],u[k], \")=\"\\\n",
    "                , simplify(Christoffel_n_ab(d,u,g,gin,i,j,k)))"
   ]
  },
  {
   "cell_type": "code",
   "execution_count": 34,
   "metadata": {
    "collapsed": true
   },
   "outputs": [],
   "source": [
    "def R(d,u,g,gin,a,b):\n",
    "    sum=0.0\n",
    "    for i in range(d):\n",
    "        sum=sum+gin[a][i]*Ricci_Tensor_ab(d,u,g,gin,i,b)\n",
    "    return sum"
   ]
  },
  {
   "cell_type": "code",
   "execution_count": 35,
   "metadata": {
    "collapsed": false
   },
   "outputs": [
    {
     "data": {
      "image/png": "[encoded data removed]",
      "text/latex": [
       "$$- \\frac{4 \\frac{d^{2}}{d t^{2}}  a{\\left (t \\right )}}{a{\\left (t \\right )}}$$"
      ],
      "text/plain": [
       "     2       \n",
       "    d        \n",
       "-4⋅───(a(t)) \n",
       "     2       \n",
       "   dt        \n",
       "─────────────\n",
       "     a(t)    "
      ]
     },
     "execution_count": 35,
     "metadata": {},
     "output_type": "execute_result"
    }
   ],
   "source": [
    "simplify(R(d,u,g,gin,0,0))"
   ]
  },
  {
   "cell_type": "code",
   "execution_count": 36,
   "metadata": {
    "collapsed": true
   },
   "outputs": [],
   "source": [
    "def G(d,u,g,gin,a,b):\n",
    "    SumG=0.0\n",
    "    for i in range(d):\n",
    "        SumG=SumG+gin[a][i]*\\\n",
    "        Einstein_Equation_ab(d,u,g,gin,i,b)\n",
    "    return SumG"
   ]
  },
  {
   "cell_type": "code",
   "execution_count": 37,
   "metadata": {
    "collapsed": false
   },
   "outputs": [
    {
     "data": {
      "image/png": "[encoded data removed]",
      "text/latex": [
       "$$\\frac{1}{a^{2}{\\left (t \\right )}} \\left(6.0 k + 6.0 \\frac{d}{d t} a{\\left (t \\right )}^{2}\\right)$$"
      ],
      "text/plain": [
       "    ⎛              2⎞\n",
       "    ⎜    ⎛d       ⎞ ⎟\n",
       "6.0⋅⎜k + ⎜──(a(t))⎟ ⎟\n",
       "    ⎝    ⎝dt      ⎠ ⎠\n",
       "─────────────────────\n",
       "         2           \n",
       "        a (t)        "
      ]
     },
     "execution_count": 37,
     "metadata": {},
     "output_type": "execute_result"
    }
   ],
   "source": [
    "simplify(G(d,u,g,gin,0,0))"
   ]
  },
  {
   "cell_type": "code",
   "execution_count": 38,
   "metadata": {
    "collapsed": false
   },
   "outputs": [
    {
     "data": {
      "image/png": "[encoded data removed]",
      "text/latex": [
       "$$\\frac{1}{a^{2}{\\left (t \\right )}} \\left(3.0 k + 3.0 a{\\left (t \\right )} \\frac{d^{2}}{d t^{2}}  a{\\left (t \\right )} + 3.0 \\frac{d}{d t} a{\\left (t \\right )}^{2}\\right)$$"
      ],
      "text/plain": [
       "    ⎛           2                   2⎞\n",
       "    ⎜          d          ⎛d       ⎞ ⎟\n",
       "3.0⋅⎜k + a(t)⋅───(a(t)) + ⎜──(a(t))⎟ ⎟\n",
       "    ⎜           2         ⎝dt      ⎠ ⎟\n",
       "    ⎝         dt                     ⎠\n",
       "──────────────────────────────────────\n",
       "                 2                    \n",
       "                a (t)                 "
      ]
     },
     "execution_count": 38,
     "metadata": {},
     "output_type": "execute_result"
    }
   ],
   "source": [
    "simplify(G(d,u,g,gin,1,1))"
   ]
  },
  {
   "cell_type": "code",
   "execution_count": 39,
   "metadata": {
    "collapsed": false
   },
   "outputs": [],
   "source": [
    "T=np.array([[0,0,0,0,0],[0,0,0,0,0],\\\n",
    "            [0,0,0,0,0],[0,0,0,0,0],[0,0,0,0,0]])"
   ]
  },
  {
   "cell_type": "code",
   "execution_count": 48,
   "metadata": {
    "collapsed": true
   },
   "outputs": [],
   "source": [
    "phi = Function('phi')(t)"
   ]
  },
  {
   "cell_type": "code",
   "execution_count": 41,
   "metadata": {
    "collapsed": false
   },
   "outputs": [],
   "source": [
    "def Scalar_Brans_Dicke_field_Equation(d,x,g,ginverse,psi,T):\n",
    "    lamda, omaga, pi=symbols('lamda omaga pi')\n",
    "    pro=1\n",
    "    for i in range(d):\n",
    "        pro=-pro*g[i][i]\n",
    "    sum=0\n",
    "    for k in range(d):\n",
    "        for i in range(d):\n",
    "            sum=sum+(1/sqrt(pro))*(diff((sqrt(pro)*ginverse[k][i]*diff(psi,x[i])),x[k]))\n",
    "    Lap=expand(sum)-(8*pi)/(3+2*omaga)*Tr(T)+2*lamda*psi/(3+2*omaga)\n",
    "    return Lap"
   ]
  },
  {
   "cell_type": "code",
   "execution_count": 46,
   "metadata": {
    "collapsed": false
   },
   "outputs": [
    {
     "data": {
      "image/png": "[encoded data removed]",
      "text/latex": [
       "$$\\frac{2 \\lambda \\phi{\\left (t \\right )}}{2 omaga + 3} + \\frac{d^{2}}{d t^{2}}  \\phi{\\left (t \\right )} + \\frac{4 \\frac{d}{d t} a{\\left (t \\right )}}{a{\\left (t \\right )}} \\frac{d}{d t} \\phi{\\left (t \\right )}$$"
      ],
      "text/plain": [
       "                            d        d       \n",
       "                2         4⋅──(a(t))⋅──(φ(t))\n",
       "  2⋅λ⋅φ(t)     d            dt       dt      \n",
       "─────────── + ───(φ(t)) + ───────────────────\n",
       "2⋅omaga + 3     2                 a(t)       \n",
       "              dt                             "
      ]
     },
     "execution_count": 46,
     "metadata": {},
     "output_type": "execute_result"
    }
   ],
   "source": [
    "Scalar_Brans_Dicke_field_Equation(d,u,g,gin,phi,T)"
   ]
  },
  {
   "cell_type": "code",
   "execution_count": 75,
   "metadata": {
    "collapsed": false
   },
   "outputs": [
    {
     "name": "stdout",
     "output_type": "stream",
     "text": [
      "Brans_Dicke[ 0 , 0 ]= Derivative(phi(t), t)**2 - 4*Derivative(a(t), t)*Derivative(phi(t), t)/(a(t)*phi(t))\n",
      "Brans_Dicke[ 1 , 1 ]= (a(t)*phi(t)*Derivative(phi(t), t)**2 - a(t)*Derivative(phi(t), t, t) - 4*Derivative(a(t), t)*Derivative(phi(t), t))*a(t)/((k*r**2 - 1)*phi(t))\n",
      "Brans_Dicke[ 2 , 2 ]= r**2*(-a(t)*phi(t)*Derivative(phi(t), t)**2 + a(t)*Derivative(phi(t), t, t) + 4*Derivative(a(t), t)*Derivative(phi(t), t))*a(t)/phi(t)\n",
      "Brans_Dicke[ 3 , 3 ]= r**2*(-a(t)*phi(t)*Derivative(phi(t), t)**2 + a(t)*Derivative(phi(t), t, t) + 4*Derivative(a(t), t)*Derivative(phi(t), t))*a(t)*sin(theta)**2/phi(t)\n",
      "Brans_Dicke[ 4 , 4 ]= (k*r**2 - 1)*(a(t)*phi(t)*Derivative(phi(t), t)**2 - a(t)*Derivative(phi(t), t, t) - 4*Derivative(a(t), t)*Derivative(phi(t), t))*a(t)/phi(t)\n"
     ]
    }
   ],
   "source": [
    "Brans_Dicke_Equations(d,u,g,gin,phi,T)"
   ]
  },
  {
   "cell_type": "code",
   "execution_count": null,
   "metadata": {
    "collapsed": true
   },
   "outputs": [],
   "source": []
  }
 ],
 "metadata": {
  "anaconda-cloud": {},
  "kernelspec": {
   "display_name": "Python [conda root]",
   "language": "python",
   "name": "conda-root-py"
  },
  "language_info": {
   "codemirror_mode": {
    "name": "ipython",
    "version": 3
   },
   "file_extension": ".py",
   "mimetype": "text/x-python",
   "name": "python",
   "nbconvert_exporter": "python",
   "pygments_lexer": "ipython3",
   "version": "3.5.2"
  }
 },
 "nbformat": 4,
 "nbformat_minor": 1
}
