{
 "cells": [
  {
   "cell_type": "code",
   "execution_count": 1,
   "metadata": {
    "collapsed": true
   },
   "outputs": [],
   "source": [
    "from GrTiPy import *\n",
    "init_printing()"
   ]
  },
  {
   "cell_type": "code",
   "execution_count": 2,
   "metadata": {
    "collapsed": true
   },
   "outputs": [],
   "source": [
    "d=5\n",
    "t, x, y, z, zeta= symbols('t x y z zeta')\n",
    "u=np.array([t, x, y, z, zeta])\n",
    "A = Function('A')(t)\n",
    "B = Function('B')(t)\n",
    "C = Function('C')(t)"
   ]
  },
  {
   "cell_type": "code",
   "execution_count": 3,
   "metadata": {
    "collapsed": false
   },
   "outputs": [
    {
     "data": {
      "image/png": "[encoded data removed]",
      "text/latex": [
       "$$\\zeta$$"
      ],
      "text/plain": [
       "ζ"
      ]
     },
     "execution_count": 3,
     "metadata": {},
     "output_type": "execute_result"
    }
   ],
   "source": [
    "u[4]"
   ]
  },
  {
   "cell_type": "code",
   "execution_count": 4,
   "metadata": {
    "collapsed": true
   },
   "outputs": [],
   "source": [
    "g00 =  -1\n",
    "g11 =  A**2\n",
    "g22 =  B**2\n",
    "g33 =  B**2\n",
    "g44 =  C**2\n",
    "g=np.array([[g00,0,0,0,0],[0,g11,0,0,0],\\\n",
    "            [0,0,g22,0,0],[0,0,0,g33,0],[0,0,0,0,g44]])\n",
    "gin=inverse_metric(g)"
   ]
  },
  {
   "cell_type": "code",
   "execution_count": 5,
   "metadata": {
    "collapsed": true
   },
   "outputs": [],
   "source": [
    "V= np.array([1,0,0,0,0])"
   ]
  },
  {
   "cell_type": "code",
   "execution_count": 6,
   "metadata": {
    "collapsed": false
   },
   "outputs": [
    {
     "data": {
      "image/png": "[encoded data removed]",
      "text/latex": [
       "$$\\frac{1.0 \\frac{d}{d t} C{\\left (t \\right )}}{C{\\left (t \\right )}} + \\frac{2.0 \\frac{d}{d t} B{\\left (t \\right )}}{B{\\left (t \\right )}} + \\frac{1.0 \\frac{d}{d t} A{\\left (t \\right )}}{A{\\left (t \\right )}}$$"
      ],
      "text/plain": [
       "    d              d              d       \n",
       "1.0⋅──(C(t))   2.0⋅──(B(t))   1.0⋅──(A(t))\n",
       "    dt             dt             dt      \n",
       "──────────── + ──────────── + ────────────\n",
       "    C(t)           B(t)           A(t)    "
      ]
     },
     "execution_count": 6,
     "metadata": {},
     "output_type": "execute_result"
    }
   ],
   "source": [
    "expansion_scalar(d,u,g,gin,V)"
   ]
  },
  {
   "cell_type": "code",
   "execution_count": 8,
   "metadata": {
    "collapsed": false
   },
   "outputs": [
    {
     "data": {
      "image/png": "[encoded data removed]",
      "text/latex": [
       "$$0$$"
      ],
      "text/plain": [
       "0"
      ]
     },
     "execution_count": 8,
     "metadata": {},
     "output_type": "execute_result"
    }
   ],
   "source": [
    "factor(shear_tensor_ab(d,u,g,gin,V,0,0)*3)"
   ]
  },
  {
   "cell_type": "code",
   "execution_count": 12,
   "metadata": {
    "collapsed": false
   },
   "outputs": [
    {
     "data": {
      "image/png": "[encoded data removed]",
      "text/latex": [
       "$$- \\frac{1.0 A^{2}{\\left (t \\right )}}{C{\\left (t \\right )}} \\frac{d}{d t} C{\\left (t \\right )} - \\frac{2.0 A^{2}{\\left (t \\right )}}{B{\\left (t \\right )}} \\frac{d}{d t} B{\\left (t \\right )} + 2.0 A{\\left (t \\right )} \\frac{d}{d t} A{\\left (t \\right )} + \\frac{3.0 \\frac{d}{d t} C{\\left (t \\right )}}{C{\\left (t \\right )}} + \\frac{6.0 \\frac{d}{d t} B{\\left (t \\right )}}{B{\\left (t \\right )}} + \\frac{3.0 \\frac{d}{d t} A{\\left (t \\right )}}{A{\\left (t \\right )}}$$"
      ],
      "text/plain": [
       "       2    d               2    d                                  d         \n",
       "  1.0⋅A (t)⋅──(C(t))   2.0⋅A (t)⋅──(B(t))                       3.0⋅──(C(t))  \n",
       "            dt                   dt                  d              dt        \n",
       "- ────────────────── - ────────────────── + 2.0⋅A(t)⋅──(A(t)) + ──────────── +\n",
       "         C(t)                 B(t)                   dt             C(t)      \n",
       "\n",
       "     d              d       \n",
       " 6.0⋅──(B(t))   3.0⋅──(A(t))\n",
       "     dt             dt      \n",
       " ──────────── + ────────────\n",
       "     B(t)           A(t)    "
      ]
     },
     "execution_count": 12,
     "metadata": {},
     "output_type": "execute_result"
    }
   ],
   "source": [
    "simplify(factor(shear_tensor_ab(d,u,g,gin,V,1,1)*3)+3*expansion_scalar(d,u,g,gin,V))"
   ]
  },
  {
   "cell_type": "code",
   "execution_count": 13,
   "metadata": {
    "collapsed": true
   },
   "outputs": [],
   "source": [
    "def segma(d,u,g,gin,V,i,j):\n",
    "    su=0.0\n",
    "    for k in range(d):\n",
    "        su=su+gin[i][k]*shear_tensor_ab(d,u,g,gin,V,k,j)\n",
    "    suu=su\n",
    "    return suu "
   ]
  },
  {
   "cell_type": "code",
   "execution_count": 15,
   "metadata": {
    "collapsed": false
   },
   "outputs": [
    {
     "data": {
      "image/png": "[encoded data removed]",
      "text/latex": [
       "$$\\frac{1.0 \\frac{d}{d t} A{\\left (t \\right )}}{A{\\left (t \\right )}}$$"
      ],
      "text/plain": [
       "    d       \n",
       "1.0⋅──(A(t))\n",
       "    dt      \n",
       "────────────\n",
       "    A(t)    "
      ]
     },
     "execution_count": 15,
     "metadata": {},
     "output_type": "execute_result"
    }
   ],
   "source": [
    "simplify(segma(d,u,g,gin,V,1,1))+(1/3)*expansion_scalar(d,u,g,gin,V)"
   ]
  },
  {
   "cell_type": "code",
   "execution_count": 16,
   "metadata": {
    "collapsed": false
   },
   "outputs": [
    {
     "data": {
      "image/png": "[encoded data removed]",
      "text/latex": [
       "$$\\frac{1.0 \\frac{d}{d t} B{\\left (t \\right )}}{B{\\left (t \\right )}}$$"
      ],
      "text/plain": [
       "    d       \n",
       "1.0⋅──(B(t))\n",
       "    dt      \n",
       "────────────\n",
       "    B(t)    "
      ]
     },
     "execution_count": 16,
     "metadata": {},
     "output_type": "execute_result"
    }
   ],
   "source": [
    "simplify(segma(d,u,g,gin,V,2,2))+(1/3)*expansion_scalar(d,u,g,gin,V)"
   ]
  },
  {
   "cell_type": "code",
   "execution_count": 17,
   "metadata": {
    "collapsed": false
   },
   "outputs": [
    {
     "data": {
      "image/png": "[encoded data removed]",
      "text/latex": [
       "$$\\frac{1.0 \\frac{d}{d t} C{\\left (t \\right )}}{C{\\left (t \\right )}}$$"
      ],
      "text/plain": [
       "    d       \n",
       "1.0⋅──(C(t))\n",
       "    dt      \n",
       "────────────\n",
       "    C(t)    "
      ]
     },
     "execution_count": 17,
     "metadata": {},
     "output_type": "execute_result"
    }
   ],
   "source": [
    "simplify(segma(d,u,g,gin,V,4,4))+(1/3)*expansion_scalar(d,u,g,gin,V)"
   ]
  },
  {
   "cell_type": "code",
   "execution_count": null,
   "metadata": {
    "collapsed": true
   },
   "outputs": [],
   "source": []
  }
 ],
 "metadata": {
  "anaconda-cloud": {},
  "kernelspec": {
   "display_name": "Python [conda root]",
   "language": "python",
   "name": "conda-root-py"
  },
  "language_info": {
   "codemirror_mode": {
    "name": "ipython",
    "version": 3
   },
   "file_extension": ".py",
   "mimetype": "text/x-python",
   "name": "python",
   "nbconvert_exporter": "python",
   "pygments_lexer": "ipython3",
   "version": "3.5.2"
  }
 },
 "nbformat": 4,
 "nbformat_minor": 1
}
