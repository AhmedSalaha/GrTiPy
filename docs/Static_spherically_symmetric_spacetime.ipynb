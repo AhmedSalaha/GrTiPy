{
 "cells": [
  {
   "cell_type": "markdown",
   "metadata": {},
   "source": [
    "# Static spherically symmetric spacetime"
   ]
  },
  {
   "cell_type": "code",
   "execution_count": 1,
   "metadata": {
    "collapsed": true
   },
   "outputs": [],
   "source": [
    "from GrTiPy import *\n",
    "init_printing()"
   ]
  },
  {
   "cell_type": "code",
   "execution_count": 2,
   "metadata": {
    "collapsed": true
   },
   "outputs": [],
   "source": [
    "d=4\n",
    "t, r, theta, phi= symbols('t  r theta phi ')\n",
    "u=np.array([t, r, theta, phi])\n",
    "n, rho, P, pi, omega=symbols(' n rho P pi omega')\n",
    "B = Function('B')(r)\n",
    "A = Function('A')(r)\n",
    "\n",
    "g00 =   -B\n",
    "g11 =  A\n",
    "g22 =  r**2\n",
    "g33 = r**2*sin(theta)**2\n",
    "g=np.array([[g00,0,0,0],[0,g11,0,0],\\\n",
    "            [0,0,g22,0],[0,0,0,g33]])\n",
    "gin=inverse_metric(g)"
   ]
  },
  {
   "cell_type": "code",
   "execution_count": 3,
   "metadata": {
    "collapsed": false
   },
   "outputs": [
    {
     "data": {
      "text/plain": [
       "array([[-B(r), 0, 0, 0],\n",
       "       [0, A(r), 0, 0],\n",
       "       [0, 0, r**2, 0],\n",
       "       [0, 0, 0, r**2*sin(theta)**2]], dtype=object)"
      ]
     },
     "execution_count": 3,
     "metadata": {},
     "output_type": "execute_result"
    }
   ],
   "source": [
    "g"
   ]
  },
  {
   "cell_type": "code",
   "execution_count": 4,
   "metadata": {
    "collapsed": false
   },
   "outputs": [
    {
     "data": {
      "text/plain": [
       "array([[-1/B(r), 0, 0, 0],\n",
       "       [0, 1/A(r), 0, 0],\n",
       "       [0, 0, r**(-2), 0],\n",
       "       [0, 0, 0, 1/(r**2*sin(theta)**2)]], dtype=object)"
      ]
     },
     "execution_count": 4,
     "metadata": {},
     "output_type": "execute_result"
    }
   ],
   "source": [
    "gin"
   ]
  },
  {
   "cell_type": "code",
   "execution_count": 6,
   "metadata": {
    "collapsed": false
   },
   "outputs": [
    {
     "data": {
      "image/png": "[encoded data removed]",
      "text/latex": [
       "$$\\frac{1.0 B{\\left (r \\right )}}{r^{2} A^{2}{\\left (r \\right )}} \\left(r \\frac{d}{d r} A{\\left (r \\right )} + A^{2}{\\left (r \\right )} - A{\\left (r \\right )}\\right)$$"
      ],
      "text/plain": [
       "    ⎛  d           2          ⎞     \n",
       "1.0⋅⎜r⋅──(A(r)) + A (r) - A(r)⎟⋅B(r)\n",
       "    ⎝  dr                     ⎠     \n",
       "────────────────────────────────────\n",
       "               2  2                 \n",
       "              r ⋅A (r)              "
      ]
     },
     "execution_count": 6,
     "metadata": {},
     "output_type": "execute_result"
    }
   ],
   "source": [
    "simplify(Einstein_Equation_ab(d,u,g,gin,0,0))"
   ]
  },
  {
   "cell_type": "code",
   "execution_count": 7,
   "metadata": {
    "collapsed": true
   },
   "outputs": [],
   "source": [
    "def G(d,u,g,gin,a,b):\n",
    "    SumG=0.0\n",
    "    for i in range(d):\n",
    "        SumG=SumG+gin[a][i]*\\\n",
    "        Einstein_Equation_ab(d,u,g,gin,i,b)\n",
    "    return SumG"
   ]
  },
  {
   "cell_type": "code",
   "execution_count": 10,
   "metadata": {
    "collapsed": false
   },
   "outputs": [
    {
     "data": {
      "image/png": "[encoded data removed]",
      "text/latex": [
       "$$- \\frac{1}{r^{2} A^{2}{\\left (r \\right )}} \\left(1.0 r \\frac{d}{d r} A{\\left (r \\right )} + 1.0 A^{2}{\\left (r \\right )} - 1.0 A{\\left (r \\right )}\\right)$$"
      ],
      "text/plain": [
       "     ⎛      d               2              ⎞ \n",
       "-1.0⋅⎜1.0⋅r⋅──(A(r)) + 1.0⋅A (r) - 1.0⋅A(r)⎟ \n",
       "     ⎝      dr                             ⎠ \n",
       "─────────────────────────────────────────────\n",
       "                    2  2                     \n",
       "                   r ⋅A (r)                  "
      ]
     },
     "execution_count": 10,
     "metadata": {},
     "output_type": "execute_result"
    }
   ],
   "source": [
    "factor(G(d,u,g,gin,0,0))"
   ]
  },
  {
   "cell_type": "code",
   "execution_count": 11,
   "metadata": {
    "collapsed": false
   },
   "outputs": [
    {
     "data": {
      "image/png": "[encoded data removed]",
      "text/latex": [
       "$$\\frac{1}{r^{2} A{\\left (r \\right )} B{\\left (r \\right )}} \\left(1.0 r \\frac{d}{d r} B{\\left (r \\right )} - 1.0 A{\\left (r \\right )} B{\\left (r \\right )} + 1.0 B{\\left (r \\right )}\\right)$$"
      ],
      "text/plain": [
       "      d                                  \n",
       "1.0⋅r⋅──(B(r)) - 1.0⋅A(r)⋅B(r) + 1.0⋅B(r)\n",
       "      dr                                 \n",
       "─────────────────────────────────────────\n",
       "                2                        \n",
       "               r ⋅A(r)⋅B(r)              "
      ]
     },
     "execution_count": 11,
     "metadata": {},
     "output_type": "execute_result"
    }
   ],
   "source": [
    "factor(G(d,u,g,gin,1,1))"
   ]
  },
  {
   "cell_type": "code",
   "execution_count": 12,
   "metadata": {
    "collapsed": false
   },
   "outputs": [
    {
     "data": {
      "image/png": "[encoded data removed]",
      "text/latex": [
       "$$\\frac{1}{r A^{2}{\\left (r \\right )} B^{2}{\\left (r \\right )}} \\left(0.5 r A{\\left (r \\right )} B{\\left (r \\right )} \\frac{d^{2}}{d r^{2}}  B{\\left (r \\right )} - 0.25 r A{\\left (r \\right )} \\frac{d}{d r} B{\\left (r \\right )}^{2} - 0.25 r B{\\left (r \\right )} \\frac{d}{d r} A{\\left (r \\right )} \\frac{d}{d r} B{\\left (r \\right )} + 0.5 A{\\left (r \\right )} B{\\left (r \\right )} \\frac{d}{d r} B{\\left (r \\right )} - 0.5 B^{2}{\\left (r \\right )} \\frac{d}{d r} A{\\left (r \\right )}\\right)$$"
      ],
      "text/plain": [
       "    ⎛                  2                              2                       \n",
       "    ⎜                 d                     ⎛d       ⎞               d        \n",
       "0.5⋅⎜1.0⋅r⋅A(r)⋅B(r)⋅───(B(r)) - 0.5⋅r⋅A(r)⋅⎜──(B(r))⎟  - 0.5⋅r⋅B(r)⋅──(A(r))⋅\n",
       "    ⎜                  2                    ⎝dr      ⎠               dr       \n",
       "    ⎝                dr                                                       \n",
       "──────────────────────────────────────────────────────────────────────────────\n",
       "                                                               2     2        \n",
       "                                                            r⋅A (r)⋅B (r)     \n",
       "\n",
       "                                                      ⎞\n",
       "d                        d               2    d       ⎟\n",
       "──(B(r)) + 1.0⋅A(r)⋅B(r)⋅──(B(r)) - 1.0⋅B (r)⋅──(A(r))⎟\n",
       "dr                       dr                   dr      ⎟\n",
       "                                                      ⎠\n",
       "───────────────────────────────────────────────────────\n",
       "                                                       \n",
       "                                                       "
      ]
     },
     "execution_count": 12,
     "metadata": {},
     "output_type": "execute_result"
    }
   ],
   "source": [
    "factor(G(d,u,g,gin,2,2))"
   ]
  },
  {
   "cell_type": "code",
   "execution_count": 13,
   "metadata": {
    "collapsed": false
   },
   "outputs": [
    {
     "data": {
      "image/png": "[encoded data removed]",
      "text/latex": [
       "$$\\frac{1}{r A^{2}{\\left (r \\right )} B^{2}{\\left (r \\right )}} \\left(0.5 r A{\\left (r \\right )} B{\\left (r \\right )} \\frac{d^{2}}{d r^{2}}  B{\\left (r \\right )} - 0.25 r A{\\left (r \\right )} \\frac{d}{d r} B{\\left (r \\right )}^{2} - 0.25 r B{\\left (r \\right )} \\frac{d}{d r} A{\\left (r \\right )} \\frac{d}{d r} B{\\left (r \\right )} + 0.5 A{\\left (r \\right )} B{\\left (r \\right )} \\frac{d}{d r} B{\\left (r \\right )} - 0.5 B^{2}{\\left (r \\right )} \\frac{d}{d r} A{\\left (r \\right )}\\right)$$"
      ],
      "text/plain": [
       "    ⎛                  2                              2                       \n",
       "    ⎜                 d                     ⎛d       ⎞               d        \n",
       "0.5⋅⎜1.0⋅r⋅A(r)⋅B(r)⋅───(B(r)) - 0.5⋅r⋅A(r)⋅⎜──(B(r))⎟  - 0.5⋅r⋅B(r)⋅──(A(r))⋅\n",
       "    ⎜                  2                    ⎝dr      ⎠               dr       \n",
       "    ⎝                dr                                                       \n",
       "──────────────────────────────────────────────────────────────────────────────\n",
       "                                                               2     2        \n",
       "                                                            r⋅A (r)⋅B (r)     \n",
       "\n",
       "                                                      ⎞\n",
       "d                        d               2    d       ⎟\n",
       "──(B(r)) + 1.0⋅A(r)⋅B(r)⋅──(B(r)) - 1.0⋅B (r)⋅──(A(r))⎟\n",
       "dr                       dr                   dr      ⎟\n",
       "                                                      ⎠\n",
       "───────────────────────────────────────────────────────\n",
       "                                                       \n",
       "                                                       "
      ]
     },
     "execution_count": 13,
     "metadata": {},
     "output_type": "execute_result"
    }
   ],
   "source": [
    "factor(G(d,u,g,gin,3,3))"
   ]
  },
  {
   "cell_type": "code",
   "execution_count": null,
   "metadata": {
    "collapsed": true
   },
   "outputs": [],
   "source": []
  }
 ],
 "metadata": {
  "anaconda-cloud": {},
  "kernelspec": {
   "display_name": "Python [conda root]",
   "language": "python",
   "name": "conda-root-py"
  },
  "language_info": {
   "codemirror_mode": {
    "name": "ipython",
    "version": 3
   },
   "file_extension": ".py",
   "mimetype": "text/x-python",
   "name": "python",
   "nbconvert_exporter": "python",
   "pygments_lexer": "ipython3",
   "version": "3.5.2"
  }
 },
 "nbformat": 4,
 "nbformat_minor": 1
}
