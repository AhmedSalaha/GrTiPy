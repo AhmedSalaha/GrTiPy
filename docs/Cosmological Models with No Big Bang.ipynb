{
 "cells": [
  {
   "cell_type": "markdown",
   "metadata": {},
   "source": [
    "# Cosmological Models with No Big Bang"
   ]
  },
  {
   "cell_type": "code",
   "execution_count": 18,
   "metadata": {
    "collapsed": true
   },
   "outputs": [],
   "source": [
    "from GrTiPy import *\n",
    "init_printing()"
   ]
  },
  {
   "cell_type": "code",
   "execution_count": 19,
   "metadata": {
    "collapsed": true
   },
   "outputs": [],
   "source": [
    "d=4\n",
    "t, psi, theta, phi= symbols('t  psi theta phi ')\n",
    "u=np.array([t, psi, theta, phi])"
   ]
  },
  {
   "cell_type": "code",
   "execution_count": 20,
   "metadata": {
    "collapsed": false
   },
   "outputs": [
    {
     "data": {
      "image/png": "[encoded data removed]",
      "text/latex": [
       "$$t$$"
      ],
      "text/plain": [
       "t"
      ]
     },
     "execution_count": 20,
     "metadata": {},
     "output_type": "execute_result"
    }
   ],
   "source": [
    "u[0]"
   ]
  },
  {
   "cell_type": "code",
   "execution_count": 21,
   "metadata": {
    "collapsed": false
   },
   "outputs": [
    {
     "data": {
      "image/png": "[encoded data removed]",
      "text/latex": [
       "$$\\psi$$"
      ],
      "text/plain": [
       "ψ"
      ]
     },
     "execution_count": 21,
     "metadata": {},
     "output_type": "execute_result"
    }
   ],
   "source": [
    "u[1]"
   ]
  },
  {
   "cell_type": "code",
   "execution_count": 22,
   "metadata": {
    "collapsed": false
   },
   "outputs": [
    {
     "data": {
      "image/png": "[encoded data removed]",
      "text/latex": [
       "$$\\theta$$"
      ],
      "text/plain": [
       "θ"
      ]
     },
     "execution_count": 22,
     "metadata": {},
     "output_type": "execute_result"
    }
   ],
   "source": [
    "u[2]"
   ]
  },
  {
   "cell_type": "code",
   "execution_count": 23,
   "metadata": {
    "collapsed": false
   },
   "outputs": [
    {
     "data": {
      "image/png": "[encoded data removed]",
      "text/latex": [
       "$$\\phi$$"
      ],
      "text/plain": [
       "φ"
      ]
     },
     "execution_count": 23,
     "metadata": {},
     "output_type": "execute_result"
    }
   ],
   "source": [
    "u[3]"
   ]
  },
  {
   "cell_type": "code",
   "execution_count": 24,
   "metadata": {
    "collapsed": true
   },
   "outputs": [],
   "source": [
    "c = Function('c')(t)\n",
    "a = Function('a')(t)"
   ]
  },
  {
   "cell_type": "code",
   "execution_count": 25,
   "metadata": {
    "collapsed": false
   },
   "outputs": [
    {
     "data": {
      "image/png": "[encoded data removed]",
      "text/latex": [
       "$$c{\\left (t \\right )}$$"
      ],
      "text/plain": [
       "c(t)"
      ]
     },
     "execution_count": 25,
     "metadata": {},
     "output_type": "execute_result"
    }
   ],
   "source": [
    "c"
   ]
  },
  {
   "cell_type": "code",
   "execution_count": 26,
   "metadata": {
    "collapsed": false
   },
   "outputs": [
    {
     "data": {
      "image/png": "[encoded data removed]",
      "text/latex": [
       "$$a{\\left (t \\right )}$$"
      ],
      "text/plain": [
       "a(t)"
      ]
     },
     "execution_count": 26,
     "metadata": {},
     "output_type": "execute_result"
    }
   ],
   "source": [
    "a"
   ]
  },
  {
   "cell_type": "code",
   "execution_count": 27,
   "metadata": {
    "collapsed": true
   },
   "outputs": [],
   "source": [
    "g00 =   -c**2\n",
    "g11 =  a**2\n",
    "g22 =  a**2*sin(psi)**2\n",
    "g33 =  a**2*sin(psi)**2*sin(theta)**2"
   ]
  },
  {
   "cell_type": "code",
   "execution_count": 28,
   "metadata": {
    "collapsed": true
   },
   "outputs": [],
   "source": [
    "g=np.array([[g00,0,0,0],[0,g11,0,0],\\\n",
    "            [0,0,g22,0],[0,0,0,g33]])\n",
    "gin=inverse_metric(g)"
   ]
  },
  {
   "cell_type": "code",
   "execution_count": 29,
   "metadata": {
    "collapsed": false
   },
   "outputs": [
    {
     "data": {
      "image/png": "[encoded data removed]",
      "text/latex": [
       "$$- c^{2}{\\left (t \\right )}$$"
      ],
      "text/plain": [
       "  2   \n",
       "-c (t)"
      ]
     },
     "execution_count": 29,
     "metadata": {},
     "output_type": "execute_result"
    }
   ],
   "source": [
    "g[0][0]"
   ]
  },
  {
   "cell_type": "code",
   "execution_count": 30,
   "metadata": {
    "collapsed": false
   },
   "outputs": [
    {
     "data": {
      "image/png": "[encoded data removed]",
      "text/latex": [
       "$$- \\frac{1}{c^{2}{\\left (t \\right )}}$$"
      ],
      "text/plain": [
       " -1  \n",
       "─────\n",
       " 2   \n",
       "c (t)"
      ]
     },
     "execution_count": 30,
     "metadata": {},
     "output_type": "execute_result"
    }
   ],
   "source": [
    "gin[0][0]"
   ]
  },
  {
   "cell_type": "code",
   "execution_count": 31,
   "metadata": {
    "collapsed": false
   },
   "outputs": [
    {
     "data": {
      "text/plain": [
       "array([[-1/c(t)**2, 0, 0, 0],\n",
       "       [0, a(t)**(-2), 0, 0],\n",
       "       [0, 0, 1/(a(t)**2*sin(psi)**2), 0],\n",
       "       [0, 0, 0, 1/(a(t)**2*sin(psi)**2*sin(theta)**2)]], dtype=object)"
      ]
     },
     "execution_count": 31,
     "metadata": {},
     "output_type": "execute_result"
    }
   ],
   "source": [
    "gin"
   ]
  },
  {
   "cell_type": "code",
   "execution_count": 32,
   "metadata": {
    "collapsed": false
   },
   "outputs": [
    {
     "name": "stdout",
     "output_type": "stream",
     "text": [
      "G( t t t )= Derivative(c(t), t)/c(t)\n",
      "G( t psi psi )= a(t)*Derivative(a(t), t)/c(t)**2\n",
      "G( t theta theta )= a(t)*sin(psi)**2*Derivative(a(t), t)/c(t)**2\n",
      "G( t phi phi )= a(t)*sin(psi)**2*sin(theta)**2*Derivative(a(t), t)/c(t)**2\n",
      "G( psi t psi )= Derivative(a(t), t)/a(t)\n",
      "G( psi psi t )= Derivative(a(t), t)/a(t)\n",
      "G( psi theta theta )= -sin(2*psi)/2\n",
      "G( psi phi phi )= -sin(psi)*sin(theta)**2*cos(psi)\n",
      "G( theta t theta )= Derivative(a(t), t)/a(t)\n",
      "G( theta psi theta )= 1/tan(psi)\n",
      "G( theta theta t )= Derivative(a(t), t)/a(t)\n",
      "G( theta theta psi )= 1/tan(psi)\n",
      "G( theta phi phi )= -sin(2*theta)/2\n",
      "G( phi t phi )= Derivative(a(t), t)/a(t)\n",
      "G( phi psi phi )= 1/tan(psi)\n",
      "G( phi theta phi )= 1/tan(theta)\n",
      "G( phi phi t )= Derivative(a(t), t)/a(t)\n",
      "G( phi phi psi )= 1/tan(psi)\n",
      "G( phi phi theta )= 1/tan(theta)\n"
     ]
    }
   ],
   "source": [
    "for i in range(d):\n",
    "    for j in range(d):\n",
    "        for k in range(d):\n",
    "            if Christoffel_n_ab(d,u,g,gin,i,j,k) !=0:\n",
    "                print(\"G(\", u[i] ,u[j],u[k], \")=\"\\\n",
    "                , simplify(Christoffel_n_ab(d,u,g,gin,i,j,k)))"
   ]
  },
  {
   "cell_type": "code",
   "execution_count": 33,
   "metadata": {
    "collapsed": false
   },
   "outputs": [
    {
     "data": {
      "image/png": "[encoded data removed]",
      "text/latex": [
       "$$\\frac{\\frac{d}{d t} c{\\left (t \\right )}}{c{\\left (t \\right )}}$$"
      ],
      "text/plain": [
       "d       \n",
       "──(c(t))\n",
       "dt      \n",
       "────────\n",
       "  c(t)  "
      ]
     },
     "execution_count": 33,
     "metadata": {},
     "output_type": "execute_result"
    }
   ],
   "source": [
    "Christoffel_n_ab(d,u,g,gin,0,0,0)"
   ]
  },
  {
   "cell_type": "code",
   "execution_count": 34,
   "metadata": {
    "collapsed": false
   },
   "outputs": [
    {
     "data": {
      "image/png": "[encoded data removed]",
      "text/latex": [
       "$$\\frac{\\sin^{2}{\\left (\\psi \\right )} \\sin^{2}{\\left (\\theta \\right )}}{c^{2}{\\left (t \\right )}} a{\\left (t \\right )} \\frac{d}{d t} a{\\left (t \\right )}$$"
      ],
      "text/plain": [
       "        2       2    d       \n",
       "a(t)⋅sin (ψ)⋅sin (θ)⋅──(a(t))\n",
       "                     dt      \n",
       "─────────────────────────────\n",
       "             2               \n",
       "            c (t)            "
      ]
     },
     "execution_count": 34,
     "metadata": {},
     "output_type": "execute_result"
    }
   ],
   "source": [
    "Christoffel_n_ab(d,u,g,gin,0,3,3)"
   ]
  },
  {
   "cell_type": "code",
   "execution_count": 35,
   "metadata": {
    "collapsed": false
   },
   "outputs": [
    {
     "data": {
      "image/png": "[encoded data removed]",
      "text/latex": [
       "$$\\frac{\\frac{d}{d t} a{\\left (t \\right )}}{c^{2}{\\left (t \\right )}} a{\\left (t \\right )}$$"
      ],
      "text/plain": [
       "     d       \n",
       "a(t)⋅──(a(t))\n",
       "     dt      \n",
       "─────────────\n",
       "     2       \n",
       "    c (t)    "
      ]
     },
     "execution_count": 35,
     "metadata": {},
     "output_type": "execute_result"
    }
   ],
   "source": [
    "Christoffel_n_ab(d,u,g,gin,0,1,1)"
   ]
  },
  {
   "cell_type": "code",
   "execution_count": 36,
   "metadata": {
    "collapsed": false
   },
   "outputs": [
    {
     "data": {
      "image/png": "[encoded data removed]",
      "text/latex": [
       "$$\\frac{a{\\left (t \\right )} \\sin^{2}{\\left (\\psi \\right )}}{c^{2}{\\left (t \\right )}} \\frac{d}{d t} a{\\left (t \\right )}$$"
      ],
      "text/plain": [
       "        2    d       \n",
       "a(t)⋅sin (ψ)⋅──(a(t))\n",
       "             dt      \n",
       "─────────────────────\n",
       "         2           \n",
       "        c (t)        "
      ]
     },
     "execution_count": 36,
     "metadata": {},
     "output_type": "execute_result"
    }
   ],
   "source": [
    "Christoffel_n_ab(d,u,g,gin,0,2,2)"
   ]
  },
  {
   "cell_type": "code",
   "execution_count": 38,
   "metadata": {
    "collapsed": false
   },
   "outputs": [
    {
     "data": {
      "image/png": "[encoded data removed]",
      "text/latex": [
       "$$- \\frac{3 \\frac{d^{2}}{d t^{2}}  a{\\left (t \\right )}}{a{\\left (t \\right )}} + \\frac{3 \\frac{d}{d t} a{\\left (t \\right )} \\frac{d}{d t} c{\\left (t \\right )}}{a{\\left (t \\right )} c{\\left (t \\right )}}$$"
      ],
      "text/plain": [
       "      2                            \n",
       "     d                             \n",
       "  3⋅───(a(t))     d        d       \n",
       "      2         3⋅──(a(t))⋅──(c(t))\n",
       "    dt            dt       dt      \n",
       "- ─────────── + ───────────────────\n",
       "      a(t)           a(t)⋅c(t)     "
      ]
     },
     "execution_count": 38,
     "metadata": {},
     "output_type": "execute_result"
    }
   ],
   "source": [
    "expand(Ricci_Tensor_ab(d,u,g,gin,0,0))"
   ]
  },
  {
   "cell_type": "code",
   "execution_count": 39,
   "metadata": {
    "collapsed": false
   },
   "outputs": [
    {
     "data": {
      "image/png": "[encoded data removed]",
      "text/latex": [
       "$$\\frac{\\frac{d^{2}}{d t^{2}}  a{\\left (t \\right )}}{c^{2}{\\left (t \\right )}} a{\\left (t \\right )} - \\frac{\\frac{d}{d t} a{\\left (t \\right )}}{c^{3}{\\left (t \\right )}} a{\\left (t \\right )} \\frac{d}{d t} c{\\left (t \\right )} + 2 + \\frac{2 \\frac{d}{d t} a{\\left (t \\right )}^{2}}{c^{2}{\\left (t \\right )}}$$"
      ],
      "text/plain": [
       "       2                                                   \n",
       "      d                                                   2\n",
       "a(t)⋅───(a(t))        d        d                ⎛d       ⎞ \n",
       "       2         a(t)⋅──(a(t))⋅──(c(t))       2⋅⎜──(a(t))⎟ \n",
       "     dt               dt       dt               ⎝dt      ⎠ \n",
       "────────────── - ────────────────────── + 2 + ─────────────\n",
       "     2                    3                        2       \n",
       "    c (t)                c (t)                    c (t)    "
      ]
     },
     "execution_count": 39,
     "metadata": {},
     "output_type": "execute_result"
    }
   ],
   "source": [
    "expand(Ricci_Tensor_ab(d,u,g,gin,1,1))"
   ]
  },
  {
   "cell_type": "code",
   "execution_count": 40,
   "metadata": {
    "collapsed": false
   },
   "outputs": [
    {
     "data": {
      "image/png": "[encoded data removed]",
      "text/latex": [
       "$$\\frac{a{\\left (t \\right )} \\sin^{2}{\\left (\\psi \\right )}}{c^{2}{\\left (t \\right )}} \\frac{d^{2}}{d t^{2}}  a{\\left (t \\right )} - \\frac{a{\\left (t \\right )} \\sin^{2}{\\left (\\psi \\right )}}{c^{3}{\\left (t \\right )}} \\frac{d}{d t} a{\\left (t \\right )} \\frac{d}{d t} c{\\left (t \\right )} + 2 \\sin^{2}{\\left (\\psi \\right )} + \\frac{2 \\frac{d}{d t} a{\\left (t \\right )}^{2}}{c^{2}{\\left (t \\right )}} \\sin^{2}{\\left (\\psi \\right )}$$"
      ],
      "text/plain": [
       "               2                                                              \n",
       "        2     d                                                               \n",
       "a(t)⋅sin (ψ)⋅───(a(t))           2    d        d                           2  \n",
       "               2         a(t)⋅sin (ψ)⋅──(a(t))⋅──(c(t))               2⋅sin (ψ\n",
       "             dt                       dt       dt              2              \n",
       "────────────────────── - ────────────────────────────── + 2⋅sin (ψ) + ────────\n",
       "         2                            3                                       \n",
       "        c (t)                        c (t)                                    \n",
       "\n",
       "             \n",
       "            2\n",
       "  ⎛d       ⎞ \n",
       ")⋅⎜──(a(t))⎟ \n",
       "  ⎝dt      ⎠ \n",
       "─────────────\n",
       " 2           \n",
       "c (t)        "
      ]
     },
     "execution_count": 40,
     "metadata": {},
     "output_type": "execute_result"
    }
   ],
   "source": [
    "expand(Ricci_Tensor_ab(d,u,g,gin,2,2))"
   ]
  },
  {
   "cell_type": "code",
   "execution_count": 41,
   "metadata": {
    "collapsed": false
   },
   "outputs": [
    {
     "data": {
      "image/png": "[encoded data removed]",
      "text/latex": [
       "$$\\frac{\\sin^{2}{\\left (\\psi \\right )} \\sin^{2}{\\left (\\theta \\right )}}{c^{2}{\\left (t \\right )}} a{\\left (t \\right )} \\frac{d^{2}}{d t^{2}}  a{\\left (t \\right )} - \\frac{\\sin^{2}{\\left (\\psi \\right )} \\sin^{2}{\\left (\\theta \\right )}}{c^{3}{\\left (t \\right )}} a{\\left (t \\right )} \\frac{d}{d t} a{\\left (t \\right )} \\frac{d}{d t} c{\\left (t \\right )} + 2 \\sin^{2}{\\left (\\psi \\right )} \\sin^{2}{\\left (\\theta \\right )} + \\frac{2 \\frac{d}{d t} a{\\left (t \\right )}^{2}}{c^{2}{\\left (t \\right )}} \\sin^{2}{\\left (\\psi \\right )} \\sin^{2}{\\left (\\theta \\right )}$$"
      ],
      "text/plain": [
       "                       2                                                      \n",
       "        2       2     d                                                       \n",
       "a(t)⋅sin (ψ)⋅sin (θ)⋅───(a(t))           2       2    d        d              \n",
       "                       2         a(t)⋅sin (ψ)⋅sin (θ)⋅──(a(t))⋅──(c(t))       \n",
       "                     dt                               dt       dt             \n",
       "────────────────────────────── - ────────────────────────────────────── + 2⋅si\n",
       "             2                                    3                           \n",
       "            c (t)                                c (t)                        \n",
       "\n",
       "                                             \n",
       "                                            2\n",
       "                     2       2    ⎛d       ⎞ \n",
       "                2⋅sin (ψ)⋅sin (θ)⋅⎜──(a(t))⎟ \n",
       " 2       2                        ⎝dt      ⎠ \n",
       "n (ψ)⋅sin (θ) + ─────────────────────────────\n",
       "                             2               \n",
       "                            c (t)            "
      ]
     },
     "execution_count": 41,
     "metadata": {},
     "output_type": "execute_result"
    }
   ],
   "source": [
    "expand(Ricci_Tensor_ab(d,u,g,gin,3,3))"
   ]
  },
  {
   "cell_type": "code",
   "execution_count": 42,
   "metadata": {
    "collapsed": true
   },
   "outputs": [],
   "source": [
    "def R(d,u,g,gin,a,b):\n",
    "    sum=0.0\n",
    "    for i in range(d):\n",
    "        sum=sum+gin[a][i]*Ricci_Tensor_ab(d,u,g,gin,i,b)\n",
    "    return sum"
   ]
  },
  {
   "cell_type": "code",
   "execution_count": 43,
   "metadata": {
    "collapsed": false
   },
   "outputs": [
    {
     "data": {
      "image/png": "[encoded data removed]",
      "text/latex": [
       "$$- \\frac{1}{a{\\left (t \\right )} c^{3}{\\left (t \\right )}} \\left(- 3 c{\\left (t \\right )} \\frac{d^{2}}{d t^{2}}  a{\\left (t \\right )} + 3 \\frac{d}{d t} a{\\left (t \\right )} \\frac{d}{d t} c{\\left (t \\right )}\\right)$$"
      ],
      "text/plain": [
       "   ⎛         2                          ⎞ \n",
       "   ⎜        d          d        d       ⎟ \n",
       "-3⋅⎜- c(t)⋅───(a(t)) + ──(a(t))⋅──(c(t))⎟ \n",
       "   ⎜         2         dt       dt      ⎟ \n",
       "   ⎝       dt                           ⎠ \n",
       "──────────────────────────────────────────\n",
       "                      3                   \n",
       "                a(t)⋅c (t)                "
      ]
     },
     "execution_count": 43,
     "metadata": {},
     "output_type": "execute_result"
    }
   ],
   "source": [
    "R(d,u,g,gin,0,0)"
   ]
  },
  {
   "cell_type": "code",
   "execution_count": 44,
   "metadata": {
    "collapsed": false
   },
   "outputs": [
    {
     "data": {
      "image/png": "[encoded data removed]",
      "text/latex": [
       "$$\\frac{1}{a^{2}{\\left (t \\right )} c^{3}{\\left (t \\right )}} \\left(\\left(a{\\left (t \\right )} \\frac{d^{2}}{d t^{2}}  a{\\left (t \\right )} + 2 \\frac{d}{d t} a{\\left (t \\right )}^{2}\\right) c{\\left (t \\right )} - a{\\left (t \\right )} \\frac{d}{d t} a{\\left (t \\right )} \\frac{d}{d t} c{\\left (t \\right )} + 2 c^{3}{\\left (t \\right )}\\right)$$"
      ],
      "text/plain": [
       "⎛       2                     2⎞                                        \n",
       "⎜      d            ⎛d       ⎞ ⎟             d        d             3   \n",
       "⎜a(t)⋅───(a(t)) + 2⋅⎜──(a(t))⎟ ⎟⋅c(t) - a(t)⋅──(a(t))⋅──(c(t)) + 2⋅c (t)\n",
       "⎜       2           ⎝dt      ⎠ ⎟             dt       dt                \n",
       "⎝     dt                       ⎠                                        \n",
       "────────────────────────────────────────────────────────────────────────\n",
       "                               2     3                                  \n",
       "                              a (t)⋅c (t)                               "
      ]
     },
     "execution_count": 44,
     "metadata": {},
     "output_type": "execute_result"
    }
   ],
   "source": [
    "R(d,u,g,gin,1,1)"
   ]
  },
  {
   "cell_type": "code",
   "execution_count": 45,
   "metadata": {
    "collapsed": false
   },
   "outputs": [
    {
     "data": {
      "image/png": "[encoded data removed]",
      "text/latex": [
       "$$\\frac{1}{a^{2}{\\left (t \\right )} c^{3}{\\left (t \\right )}} \\left(a{\\left (t \\right )} c{\\left (t \\right )} \\frac{d^{2}}{d t^{2}}  a{\\left (t \\right )} - a{\\left (t \\right )} \\frac{d}{d t} a{\\left (t \\right )} \\frac{d}{d t} c{\\left (t \\right )} + 2 c^{3}{\\left (t \\right )} + 2 c{\\left (t \\right )} \\frac{d}{d t} a{\\left (t \\right )}^{2}\\right)$$"
      ],
      "text/plain": [
       "            2                                                             2\n",
       "           d               d        d             3             ⎛d       ⎞ \n",
       "a(t)⋅c(t)⋅───(a(t)) - a(t)⋅──(a(t))⋅──(c(t)) + 2⋅c (t) + 2⋅c(t)⋅⎜──(a(t))⎟ \n",
       "            2              dt       dt                          ⎝dt      ⎠ \n",
       "          dt                                                               \n",
       "───────────────────────────────────────────────────────────────────────────\n",
       "                                 2     3                                   \n",
       "                                a (t)⋅c (t)                                "
      ]
     },
     "execution_count": 45,
     "metadata": {},
     "output_type": "execute_result"
    }
   ],
   "source": [
    "R(d,u,g,gin,2,2)"
   ]
  },
  {
   "cell_type": "code",
   "execution_count": 46,
   "metadata": {
    "collapsed": false
   },
   "outputs": [
    {
     "data": {
      "image/png": "[encoded data removed]",
      "text/latex": [
       "$$\\frac{1}{a^{2}{\\left (t \\right )} c^{3}{\\left (t \\right )}} \\left(a{\\left (t \\right )} c{\\left (t \\right )} \\frac{d^{2}}{d t^{2}}  a{\\left (t \\right )} - a{\\left (t \\right )} \\frac{d}{d t} a{\\left (t \\right )} \\frac{d}{d t} c{\\left (t \\right )} + 2 c^{3}{\\left (t \\right )} + 2 c{\\left (t \\right )} \\frac{d}{d t} a{\\left (t \\right )}^{2}\\right)$$"
      ],
      "text/plain": [
       "            2                                                             2\n",
       "           d               d        d             3             ⎛d       ⎞ \n",
       "a(t)⋅c(t)⋅───(a(t)) - a(t)⋅──(a(t))⋅──(c(t)) + 2⋅c (t) + 2⋅c(t)⋅⎜──(a(t))⎟ \n",
       "            2              dt       dt                          ⎝dt      ⎠ \n",
       "          dt                                                               \n",
       "───────────────────────────────────────────────────────────────────────────\n",
       "                                 2     3                                   \n",
       "                                a (t)⋅c (t)                                "
      ]
     },
     "execution_count": 46,
     "metadata": {},
     "output_type": "execute_result"
    }
   ],
   "source": [
    "R(d,u,g,gin,3,3)"
   ]
  },
  {
   "cell_type": "code",
   "execution_count": 48,
   "metadata": {
    "collapsed": false
   },
   "outputs": [
    {
     "data": {
      "image/png": "[encoded data removed]",
      "text/latex": [
       "$$\\frac{1}{a^{2}{\\left (t \\right )} c^{3}{\\left (t \\right )}} \\left(6 a{\\left (t \\right )} c{\\left (t \\right )} \\frac{d^{2}}{d t^{2}}  a{\\left (t \\right )} - 6 a{\\left (t \\right )} \\frac{d}{d t} a{\\left (t \\right )} \\frac{d}{d t} c{\\left (t \\right )} + 6 c^{3}{\\left (t \\right )} + 6 c{\\left (t \\right )} \\frac{d}{d t} a{\\left (t \\right )}^{2}\\right)$$"
      ],
      "text/plain": [
       "  ⎛            2                                                         2⎞\n",
       "  ⎜           d               d        d           3           ⎛d       ⎞ ⎟\n",
       "6⋅⎜a(t)⋅c(t)⋅───(a(t)) - a(t)⋅──(a(t))⋅──(c(t)) + c (t) + c(t)⋅⎜──(a(t))⎟ ⎟\n",
       "  ⎜            2              dt       dt                      ⎝dt      ⎠ ⎟\n",
       "  ⎝          dt                                                           ⎠\n",
       "───────────────────────────────────────────────────────────────────────────\n",
       "                                 2     3                                   \n",
       "                                a (t)⋅c (t)                                "
      ]
     },
     "execution_count": 48,
     "metadata": {},
     "output_type": "execute_result"
    }
   ],
   "source": [
    "factor(Ricci_scalar(d,u,g,gin))"
   ]
  },
  {
   "cell_type": "code",
   "execution_count": 50,
   "metadata": {
    "collapsed": false
   },
   "outputs": [
    {
     "data": {
      "image/png": "[encoded data removed]",
      "text/latex": [
       "$$\\frac{1}{a^{2}{\\left (t \\right )}} \\left(3.0 c^{2}{\\left (t \\right )} + 3.0 \\frac{d}{d t} a{\\left (t \\right )}^{2}\\right)$$"
      ],
      "text/plain": [
       "    ⎛                  2⎞\n",
       "    ⎜ 2      ⎛d       ⎞ ⎟\n",
       "3.0⋅⎜c (t) + ⎜──(a(t))⎟ ⎟\n",
       "    ⎝        ⎝dt      ⎠ ⎠\n",
       "─────────────────────────\n",
       "           2             \n",
       "          a (t)          "
      ]
     },
     "execution_count": 50,
     "metadata": {},
     "output_type": "execute_result"
    }
   ],
   "source": [
    "simplify(Einstein_Equation_ab(d,u,g,gin,0,0))"
   ]
  },
  {
   "cell_type": "code",
   "execution_count": 51,
   "metadata": {
    "collapsed": false
   },
   "outputs": [
    {
     "data": {
      "image/png": "[encoded data removed]",
      "text/latex": [
       "$$- \\frac{2.0 \\frac{d^{2}}{d t^{2}}  a{\\left (t \\right )}}{c^{2}{\\left (t \\right )}} a{\\left (t \\right )} + \\frac{2.0 \\frac{d}{d t} a{\\left (t \\right )}}{c^{3}{\\left (t \\right )}} a{\\left (t \\right )} \\frac{d}{d t} c{\\left (t \\right )} - 1.0 - \\frac{1.0 \\frac{d}{d t} a{\\left (t \\right )}^{2}}{c^{2}{\\left (t \\right )}}$$"
      ],
      "text/plain": [
       "             2                                                           \n",
       "            d                                                           2\n",
       "  2.0⋅a(t)⋅───(a(t))            d        d                    ⎛d       ⎞ \n",
       "             2         2.0⋅a(t)⋅──(a(t))⋅──(c(t))         1.0⋅⎜──(a(t))⎟ \n",
       "           dt                   dt       dt                   ⎝dt      ⎠ \n",
       "- ────────────────── + ────────────────────────── - 1.0 - ───────────────\n",
       "         2                        3                             2        \n",
       "        c (t)                    c (t)                         c (t)     "
      ]
     },
     "execution_count": 51,
     "metadata": {},
     "output_type": "execute_result"
    }
   ],
   "source": [
    "simplify(Einstein_Equation_ab(d,u,g,gin,1,1))"
   ]
  },
  {
   "cell_type": "code",
   "execution_count": 52,
   "metadata": {
    "collapsed": false
   },
   "outputs": [
    {
     "data": {
      "image/png": "[encoded data removed]",
      "text/latex": [
       "$$\\frac{\\sin^{2}{\\left (\\psi \\right )}}{c^{3}{\\left (t \\right )}} \\left(- 2.0 a{\\left (t \\right )} c{\\left (t \\right )} \\frac{d^{2}}{d t^{2}}  a{\\left (t \\right )} + 2.0 a{\\left (t \\right )} \\frac{d}{d t} a{\\left (t \\right )} \\frac{d}{d t} c{\\left (t \\right )} - 1.0 c^{3}{\\left (t \\right )} - 1.0 c{\\left (t \\right )} \\frac{d}{d t} a{\\left (t \\right )}^{2}\\right)$$"
      ],
      "text/plain": [
       "⎛                  2                                                          \n",
       "⎜                 d                   d        d               3              \n",
       "⎜- 2.0⋅a(t)⋅c(t)⋅───(a(t)) + 2.0⋅a(t)⋅──(a(t))⋅──(c(t)) - 1.0⋅c (t) - 1.0⋅c(t)\n",
       "⎜                  2                  dt       dt                             \n",
       "⎝                dt                                                           \n",
       "──────────────────────────────────────────────────────────────────────────────\n",
       "                                                3                             \n",
       "                                               c (t)                          \n",
       "\n",
       "           2⎞        \n",
       " ⎛d       ⎞ ⎟    2   \n",
       "⋅⎜──(a(t))⎟ ⎟⋅sin (ψ)\n",
       " ⎝dt      ⎠ ⎟        \n",
       "            ⎠        \n",
       "─────────────────────\n",
       "                     \n",
       "                     "
      ]
     },
     "execution_count": 52,
     "metadata": {},
     "output_type": "execute_result"
    }
   ],
   "source": [
    "simplify(Einstein_Equation_ab(d,u,g,gin,2,2))"
   ]
  },
  {
   "cell_type": "code",
   "execution_count": 53,
   "metadata": {
    "collapsed": false
   },
   "outputs": [
    {
     "data": {
      "image/png": "[encoded data removed]",
      "text/latex": [
       "$$\\frac{\\sin^{2}{\\left (\\psi \\right )} \\sin^{2}{\\left (\\theta \\right )}}{c^{3}{\\left (t \\right )}} \\left(- 2.0 a{\\left (t \\right )} c{\\left (t \\right )} \\frac{d^{2}}{d t^{2}}  a{\\left (t \\right )} + 2.0 a{\\left (t \\right )} \\frac{d}{d t} a{\\left (t \\right )} \\frac{d}{d t} c{\\left (t \\right )} - 1.0 c^{3}{\\left (t \\right )} - 1.0 c{\\left (t \\right )} \\frac{d}{d t} a{\\left (t \\right )}^{2}\\right)$$"
      ],
      "text/plain": [
       "⎛                  2                                                          \n",
       "⎜                 d                   d        d               3              \n",
       "⎜- 2.0⋅a(t)⋅c(t)⋅───(a(t)) + 2.0⋅a(t)⋅──(a(t))⋅──(c(t)) - 1.0⋅c (t) - 1.0⋅c(t)\n",
       "⎜                  2                  dt       dt                             \n",
       "⎝                dt                                                           \n",
       "──────────────────────────────────────────────────────────────────────────────\n",
       "                                                    3                         \n",
       "                                                   c (t)                      \n",
       "\n",
       "           2⎞                \n",
       " ⎛d       ⎞ ⎟    2       2   \n",
       "⋅⎜──(a(t))⎟ ⎟⋅sin (ψ)⋅sin (θ)\n",
       " ⎝dt      ⎠ ⎟                \n",
       "            ⎠                \n",
       "─────────────────────────────\n",
       "                             \n",
       "                             "
      ]
     },
     "execution_count": 53,
     "metadata": {},
     "output_type": "execute_result"
    }
   ],
   "source": [
    "simplify(Einstein_Equation_ab(d,u,g,gin,3,3))"
   ]
  },
  {
   "cell_type": "code",
   "execution_count": 57,
   "metadata": {
    "collapsed": true
   },
   "outputs": [],
   "source": [
    "rho = Function('rho')(t)\n",
    "P   = Function('P')(t)\n"
   ]
  },
  {
   "cell_type": "code",
   "execution_count": 58,
   "metadata": {
    "collapsed": false
   },
   "outputs": [
    {
     "data": {
      "image/png": "[encoded data removed]",
      "text/latex": [
       "$$\\rho{\\left (t \\right )}$$"
      ],
      "text/plain": [
       "ρ(t)"
      ]
     },
     "execution_count": 58,
     "metadata": {},
     "output_type": "execute_result"
    }
   ],
   "source": [
    "rho"
   ]
  },
  {
   "cell_type": "code",
   "execution_count": 59,
   "metadata": {
    "collapsed": true
   },
   "outputs": [],
   "source": [
    "T00 = roh *gin[0][0]\n",
    "T11 = P * gin[1][1]\n",
    "T22 = P * gin[2][2]\n",
    "T33 = P * gin[3][3]"
   ]
  },
  {
   "cell_type": "code",
   "execution_count": 60,
   "metadata": {
    "collapsed": true
   },
   "outputs": [],
   "source": [
    "T=np.array([[T00,0,0,0],[0,T11,0,0],\\\n",
    "            [0,0,T22,0],[0,0,0,T33]])"
   ]
  },
  {
   "cell_type": "code",
   "execution_count": 61,
   "metadata": {
    "collapsed": true
   },
   "outputs": [],
   "source": [
    "def CovD(d,x,g,gin,T,b,c,a):\n",
    "    DD=diff(T[b][c],x[a])\n",
    "    summ=0.0\n",
    "    for i in range(d):\n",
    "        summ=summ+ Christoffel_n_ab(d,u,g,gin,b,a,i)*T[i][c]+Christoffel_n_ab(d,u,g,gin,c,a,i)*T[b][i]\n",
    "    CovD= DD+summ\n",
    "    return CovD"
   ]
  },
  {
   "cell_type": "code",
   "execution_count": 63,
   "metadata": {
    "collapsed": false
   },
   "outputs": [
    {
     "data": {
      "image/png": "[encoded data removed]",
      "text/latex": [
       "$$- \\frac{\\frac{d}{d t} \\operatorname{roh}{\\left (t \\right )}}{c^{2}{\\left (t \\right )}}$$"
      ],
      "text/plain": [
       " d          \n",
       "-──(roh(t)) \n",
       " dt         \n",
       "────────────\n",
       "    2       \n",
       "   c (t)    "
      ]
     },
     "execution_count": 63,
     "metadata": {},
     "output_type": "execute_result"
    }
   ],
   "source": [
    "CovD(d,u,g,gin,T,0,0,0)"
   ]
  },
  {
   "cell_type": "code",
   "execution_count": 65,
   "metadata": {
    "collapsed": false
   },
   "outputs": [
    {
     "data": {
      "image/png": "[encoded data removed]",
      "text/latex": [
       "$$\\frac{P{\\left (t \\right )} \\frac{d}{d t} a{\\left (t \\right )}}{a{\\left (t \\right )} c^{2}{\\left (t \\right )}} - \\frac{\\operatorname{roh}{\\left (t \\right )} \\frac{d}{d t} a{\\left (t \\right )}}{a{\\left (t \\right )} c^{2}{\\left (t \\right )}}$$"
      ],
      "text/plain": [
       "     d                 d       \n",
       "P(t)⋅──(a(t))   roh(t)⋅──(a(t))\n",
       "     dt                dt      \n",
       "───────────── - ───────────────\n",
       "        2                2     \n",
       "  a(t)⋅c (t)       a(t)⋅c (t)  "
      ]
     },
     "execution_count": 65,
     "metadata": {},
     "output_type": "execute_result"
    }
   ],
   "source": [
    "CovD(d,u,g,gin,T,1,0,1)"
   ]
  },
  {
   "cell_type": "code",
   "execution_count": 66,
   "metadata": {
    "collapsed": false
   },
   "outputs": [
    {
     "data": {
      "image/png": "[encoded data removed]",
      "text/latex": [
       "$$\\frac{P{\\left (t \\right )} \\frac{d}{d t} a{\\left (t \\right )}}{a{\\left (t \\right )} c^{2}{\\left (t \\right )}} - \\frac{\\operatorname{roh}{\\left (t \\right )} \\frac{d}{d t} a{\\left (t \\right )}}{a{\\left (t \\right )} c^{2}{\\left (t \\right )}}$$"
      ],
      "text/plain": [
       "     d                 d       \n",
       "P(t)⋅──(a(t))   roh(t)⋅──(a(t))\n",
       "     dt                dt      \n",
       "───────────── - ───────────────\n",
       "        2                2     \n",
       "  a(t)⋅c (t)       a(t)⋅c (t)  "
      ]
     },
     "execution_count": 66,
     "metadata": {},
     "output_type": "execute_result"
    }
   ],
   "source": [
    "CovD(d,u,g,gin,T,2,0,2)"
   ]
  },
  {
   "cell_type": "code",
   "execution_count": 67,
   "metadata": {
    "collapsed": false
   },
   "outputs": [
    {
     "data": {
      "image/png": "[encoded data removed]",
      "text/latex": [
       "$$\\frac{P{\\left (t \\right )} \\frac{d}{d t} a{\\left (t \\right )}}{a{\\left (t \\right )} c^{2}{\\left (t \\right )}} - \\frac{\\operatorname{roh}{\\left (t \\right )} \\frac{d}{d t} a{\\left (t \\right )}}{a{\\left (t \\right )} c^{2}{\\left (t \\right )}}$$"
      ],
      "text/plain": [
       "     d                 d       \n",
       "P(t)⋅──(a(t))   roh(t)⋅──(a(t))\n",
       "     dt                dt      \n",
       "───────────── - ───────────────\n",
       "        2                2     \n",
       "  a(t)⋅c (t)       a(t)⋅c (t)  "
      ]
     },
     "execution_count": 67,
     "metadata": {},
     "output_type": "execute_result"
    }
   ],
   "source": [
    "CovD(d,u,g,gin,T,3,0,3)"
   ]
  },
  {
   "cell_type": "code",
   "execution_count": 72,
   "metadata": {
    "collapsed": false
   },
   "outputs": [
    {
     "data": {
      "image/png": "[encoded data removed]",
      "text/latex": [
       "$$\\frac{1}{a{\\left (t \\right )} c^{2}{\\left (t \\right )}} \\left(3 \\left(P{\\left (t \\right )} - \\operatorname{roh}{\\left (t \\right )}\\right) \\frac{d}{d t} a{\\left (t \\right )} - a{\\left (t \\right )} \\frac{d}{d t} \\operatorname{roh}{\\left (t \\right )}\\right)$$"
      ],
      "text/plain": [
       "                  d               d         \n",
       "3⋅(P(t) - roh(t))⋅──(a(t)) - a(t)⋅──(roh(t))\n",
       "                  dt              dt        \n",
       "────────────────────────────────────────────\n",
       "                       2                    \n",
       "                 a(t)⋅c (t)                 "
      ]
     },
     "execution_count": 72,
     "metadata": {},
     "output_type": "execute_result"
    }
   ],
   "source": [
    "simplify(CovD(d,u,g,gin,T,0,0,0)+CovD(d,u,g,gin,T,1,0,1)+CovD(d,u,g,gin,T,2,0,2)+CovD(d,u,g,gin,T,3,0,3))"
   ]
  },
  {
   "cell_type": "code",
   "execution_count": 73,
   "metadata": {
    "collapsed": true
   },
   "outputs": [],
   "source": [
    "P=0"
   ]
  },
  {
   "cell_type": "code",
   "execution_count": 74,
   "metadata": {
    "collapsed": false
   },
   "outputs": [
    {
     "data": {
      "image/png": "[encoded data removed]",
      "text/latex": [
       "$$\\frac{1}{a{\\left (t \\right )} c^{2}{\\left (t \\right )}} \\left(3 \\left(P{\\left (t \\right )} - \\operatorname{roh}{\\left (t \\right )}\\right) \\frac{d}{d t} a{\\left (t \\right )} - a{\\left (t \\right )} \\frac{d}{d t} \\operatorname{roh}{\\left (t \\right )}\\right)$$"
      ],
      "text/plain": [
       "                  d               d         \n",
       "3⋅(P(t) - roh(t))⋅──(a(t)) - a(t)⋅──(roh(t))\n",
       "                  dt              dt        \n",
       "────────────────────────────────────────────\n",
       "                       2                    \n",
       "                 a(t)⋅c (t)                 "
      ]
     },
     "execution_count": 74,
     "metadata": {},
     "output_type": "execute_result"
    }
   ],
   "source": [
    "simplify(CovD(d,u,g,gin,T,0,0,0)+CovD(d,u,g,gin,T,1,0,1)+CovD(d,u,g,gin,T,2,0,2)+CovD(d,u,g,gin,T,3,0,3))"
   ]
  },
  {
   "cell_type": "code",
   "execution_count": 75,
   "metadata": {
    "collapsed": false
   },
   "outputs": [
    {
     "data": {
      "text/plain": [
       "'\\\\frac{1}{a{\\\\left (t \\\\right )} c^{2}{\\\\left (t \\\\right )}} \\\\left(3 \\\\left(P{\\\\left (t \\\\right )} - \\\\operatorname{roh}{\\\\left (t \\\\right )}\\\\right) \\\\frac{d}{d t} a{\\\\left (t \\\\right )} - a{\\\\left (t \\\\right )} \\\\frac{d}{d t} \\\\operatorname{roh}{\\\\left (t \\\\right )}\\\\right)'"
      ]
     },
     "execution_count": 75,
     "metadata": {},
     "output_type": "execute_result"
    }
   ],
   "source": [
    "latex(simplify(CovD(d,u,g,gin,T,0,0,0)+CovD(d,u,g,gin,T,1,0,1)+CovD(d,u,g,gin,T,2,0,2)+CovD(d,u,g,gin,T,3,0,3)))"
   ]
  },
  {
   "cell_type": "code",
   "execution_count": null,
   "metadata": {
    "collapsed": true
   },
   "outputs": [],
   "source": []
  }
 ],
 "metadata": {
  "anaconda-cloud": {},
  "kernelspec": {
   "display_name": "Python [conda root]",
   "language": "python",
   "name": "conda-root-py"
  },
  "language_info": {
   "codemirror_mode": {
    "name": "ipython",
    "version": 3
   },
   "file_extension": ".py",
   "mimetype": "text/x-python",
   "name": "python",
   "nbconvert_exporter": "python",
   "pygments_lexer": "ipython3",
   "version": "3.5.2"
  }
 },
 "nbformat": 4,
 "nbformat_minor": 1
}
