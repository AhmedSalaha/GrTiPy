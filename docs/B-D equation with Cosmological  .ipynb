{
 "cells": [
  {
   "cell_type": "code",
   "execution_count": 20,
   "metadata": {
    "collapsed": true
   },
   "outputs": [],
   "source": [
    "from GrTiPy import *\n",
    "init_printing()"
   ]
  },
  {
   "cell_type": "code",
   "execution_count": 21,
   "metadata": {
    "collapsed": true
   },
   "outputs": [],
   "source": [
    "d=4\n",
    "t, r, theta, phi,n= symbols('t  r theta phi n')\n",
    "u=np.array([t, r, theta, phi])\n",
    "R = Function('R')(t)"
   ]
  },
  {
   "cell_type": "code",
   "execution_count": 22,
   "metadata": {
    "collapsed": true
   },
   "outputs": [],
   "source": [
    "g00 =  1\n",
    "g11 =  -R**2\n",
    "g22 =  -R**2*r**2\n",
    "g33 = -R**2*r**2*sin(theta)**2\n",
    "g=np.array([[g00,0,0,0],[0,g11,0,0],\\\n",
    "            [0,0,g22,0],[0,0,0,g33]])\n",
    "gin=inverse_metric(g)"
   ]
  },
  {
   "cell_type": "code",
   "execution_count": 23,
   "metadata": {
    "collapsed": false
   },
   "outputs": [
    {
     "data": {
      "text/plain": [
       "array([[1, 0, 0, 0],\n",
       "       [0, -R(t)**2, 0, 0],\n",
       "       [0, 0, -r**2*R(t)**2, 0],\n",
       "       [0, 0, 0, -r**2*R(t)**2*sin(theta)**2]], dtype=object)"
      ]
     },
     "execution_count": 23,
     "metadata": {},
     "output_type": "execute_result"
    }
   ],
   "source": [
    "g"
   ]
  },
  {
   "cell_type": "code",
   "execution_count": 24,
   "metadata": {
    "collapsed": true
   },
   "outputs": [],
   "source": [
    "T=np.array([[0,0,0,0,0],[0,0,0,0,0],\\\n",
    "            [0,0,0,0,0],[0,0,0,0,0],[0,0,0,0,0]])"
   ]
  },
  {
   "cell_type": "code",
   "execution_count": 25,
   "metadata": {
    "collapsed": true
   },
   "outputs": [],
   "source": [
    "phi = R**n"
   ]
  },
  {
   "cell_type": "code",
   "execution_count": 26,
   "metadata": {
    "collapsed": false
   },
   "outputs": [
    {
     "data": {
      "image/png": "[encoded data removed]",
      "text/latex": [
       "$$\\frac{2 \\lambda R^{n}{\\left (t \\right )}}{2 omaga + 3} + \\frac{n^{2} \\frac{d}{d t} R{\\left (t \\right )}^{2}}{R^{2}{\\left (t \\right )}} R^{n}{\\left (t \\right )} + \\frac{n R^{n}{\\left (t \\right )}}{R{\\left (t \\right )}} \\frac{d^{2}}{d t^{2}}  R{\\left (t \\right )} + \\frac{2 n \\frac{d}{d t} R{\\left (t \\right )}^{2}}{R^{2}{\\left (t \\right )}} R^{n}{\\left (t \\right )}$$"
      ],
      "text/plain": [
       "                                               2                              \n",
       "                                 2      n     d                              2\n",
       "               2  n    ⎛d       ⎞    n⋅R (t)⋅───(R(t))        n    ⎛d       ⎞ \n",
       "      n       n ⋅R (t)⋅⎜──(R(t))⎟              2         2⋅n⋅R (t)⋅⎜──(R(t))⎟ \n",
       " 2⋅λ⋅R (t)             ⎝dt      ⎠            dt                    ⎝dt      ⎠ \n",
       "─────────── + ──────────────────── + ───────────────── + ─────────────────────\n",
       "2⋅omaga + 3           2                     R(t)                  2           \n",
       "                     R (t)                                       R (t)        "
      ]
     },
     "execution_count": 26,
     "metadata": {},
     "output_type": "execute_result"
    }
   ],
   "source": [
    "Scalar_Brans_Dicke_field_Equation(d,u,g,gin,phi,T)"
   ]
  },
  {
   "cell_type": "code",
   "execution_count": 27,
   "metadata": {
    "collapsed": true
   },
   "outputs": [],
   "source": [
    "def BD(d,x,g,ginverse,psi,a,b):\n",
    "    SumG=0.0\n",
    "    for i in range(d):\n",
    "        SumG=SumG+ginverse[a][i]*Brans_Dicke_Equations_ab(d,x,g,ginverse,psi,i,b)\n",
    "    return SumG"
   ]
  },
  {
   "cell_type": "code",
   "execution_count": 28,
   "metadata": {
    "collapsed": false
   },
   "outputs": [
    {
     "data": {
      "image/png": "[encoded data removed]",
      "text/latex": [
       "$$\\frac{\\frac{d}{d t} R{\\left (t \\right )}^{2}}{R^{2}{\\left (t \\right )}} \\left(0.5 n^{2} \\omega + 3.0 n + 3.0\\right)$$"
      ],
      "text/plain": [
       "                                   2\n",
       "⎛     2                ⎞ ⎛d       ⎞ \n",
       "⎝0.5⋅n ⋅ω + 3.0⋅n + 3.0⎠⋅⎜──(R(t))⎟ \n",
       "                         ⎝dt      ⎠ \n",
       "────────────────────────────────────\n",
       "                2                   \n",
       "               R (t)                "
      ]
     },
     "execution_count": 28,
     "metadata": {},
     "output_type": "execute_result"
    }
   ],
   "source": [
    "simplify(factor(BD(d,u,g,gin,phi,0,0)))"
   ]
  },
  {
   "cell_type": "code",
   "execution_count": 29,
   "metadata": {
    "collapsed": false
   },
   "outputs": [
    {
     "data": {
      "image/png": "[encoded data removed]",
      "text/latex": [
       "$$\\frac{1}{R^{2}{\\left (t \\right )}} \\left(- 0.5 n^{2} \\omega \\frac{d}{d t} R{\\left (t \\right )}^{2} + 1.0 n^{2} \\frac{d}{d t} R{\\left (t \\right )}^{2} + 1.0 n R{\\left (t \\right )} \\frac{d^{2}}{d t^{2}}  R{\\left (t \\right )} + 2.0 n \\frac{d}{d t} R{\\left (t \\right )}^{2} + 2.0 R{\\left (t \\right )} \\frac{d^{2}}{d t^{2}}  R{\\left (t \\right )} + 1.0 \\frac{d}{d t} R{\\left (t \\right )}^{2}\\right)$$"
      ],
      "text/plain": [
       "                     2                    2                2                  \n",
       "       2   ⎛d       ⎞         2 ⎛d       ⎞                d                ⎛d \n",
       "- 0.5⋅n ⋅ω⋅⎜──(R(t))⎟  + 1.0⋅n ⋅⎜──(R(t))⎟  + 1.0⋅n⋅R(t)⋅───(R(t)) + 2.0⋅n⋅⎜──\n",
       "           ⎝dt      ⎠           ⎝dt      ⎠                 2               ⎝dt\n",
       "                                                         dt                   \n",
       "──────────────────────────────────────────────────────────────────────────────\n",
       "                                                             2                \n",
       "                                                            R (t)             \n",
       "\n",
       "       2              2                       2\n",
       "      ⎞              d              ⎛d       ⎞ \n",
       "(R(t))⎟  + 2.0⋅R(t)⋅───(R(t)) + 1.0⋅⎜──(R(t))⎟ \n",
       "      ⎠               2             ⎝dt      ⎠ \n",
       "                    dt                         \n",
       "───────────────────────────────────────────────\n",
       "                                               \n",
       "                                               "
      ]
     },
     "execution_count": 29,
     "metadata": {},
     "output_type": "execute_result"
    }
   ],
   "source": [
    "simplify(factor(BD(d,u,g,gin,phi,1,1)))"
   ]
  },
  {
   "cell_type": "code",
   "execution_count": 30,
   "metadata": {
    "collapsed": false
   },
   "outputs": [
    {
     "data": {
      "image/png": "[encoded data removed]",
      "text/latex": [
       "$$\\frac{\\frac{d}{d t} R{\\left (t \\right )}^{2}}{R^{2}{\\left (t \\right )}} \\left(0.5 n^{2} \\omega + 3.0 n + 3.0\\right)$$"
      ],
      "text/plain": [
       "                                   2\n",
       "⎛     2                ⎞ ⎛d       ⎞ \n",
       "⎝0.5⋅n ⋅ω + 3.0⋅n + 3.0⎠⋅⎜──(R(t))⎟ \n",
       "                         ⎝dt      ⎠ \n",
       "────────────────────────────────────\n",
       "                2                   \n",
       "               R (t)                "
      ]
     },
     "execution_count": 30,
     "metadata": {},
     "output_type": "execute_result"
    }
   ],
   "source": [
    "simplify(Brans_Dicke_Equations_ab(d,u,g,gin,phi,0,0))"
   ]
  },
  {
   "cell_type": "code",
   "execution_count": 32,
   "metadata": {
    "collapsed": false
   },
   "outputs": [
    {
     "data": {
      "image/png": "[encoded data removed]",
      "text/latex": [
       "$$1.0 \\left(0.5 n^{2} \\omega \\frac{d}{d t} R{\\left (t \\right )}^{2} - 1.0 n^{2} \\frac{d}{d t} R{\\left (t \\right )}^{2} - 1.0 n R{\\left (t \\right )} \\frac{d^{2}}{d t^{2}}  R{\\left (t \\right )} - 2.0 n \\frac{d}{d t} R{\\left (t \\right )}^{2} - 2.0 R{\\left (t \\right )} \\frac{d^{2}}{d t^{2}}  R{\\left (t \\right )} - 1.0 \\frac{d}{d t} R{\\left (t \\right )}^{2}\\right)$$"
      ],
      "text/plain": [
       "    ⎛                   2                    2                2               \n",
       "    ⎜     2   ⎛d       ⎞         2 ⎛d       ⎞                d                \n",
       "1.0⋅⎜0.5⋅n ⋅ω⋅⎜──(R(t))⎟  - 1.0⋅n ⋅⎜──(R(t))⎟  - 1.0⋅n⋅R(t)⋅───(R(t)) - 2.0⋅n⋅\n",
       "    ⎜         ⎝dt      ⎠           ⎝dt      ⎠                 2               \n",
       "    ⎝                                                       dt                \n",
       "\n",
       "          2              2                       2⎞\n",
       "⎛d       ⎞              d              ⎛d       ⎞ ⎟\n",
       "⎜──(R(t))⎟  - 2.0⋅R(t)⋅───(R(t)) - 1.0⋅⎜──(R(t))⎟ ⎟\n",
       "⎝dt      ⎠               2             ⎝dt      ⎠ ⎟\n",
       "                       dt                         ⎠"
      ]
     },
     "execution_count": 32,
     "metadata": {},
     "output_type": "execute_result"
    }
   ],
   "source": [
    "factor(simplify(Brans_Dicke_Equations_ab(d,u,g,gin,phi,1,1)))"
   ]
  },
  {
   "cell_type": "code",
   "execution_count": 19,
   "metadata": {
    "collapsed": false
   },
   "outputs": [
    {
     "data": {
      "image/png": "[encoded data removed]",
      "text/latex": [
       "$$- 2.0 R{\\left (t \\right )} \\frac{d^{2}}{d t^{2}}  R{\\left (t \\right )} - 1.0 \\frac{d}{d t} R{\\left (t \\right )}^{2}$$"
      ],
      "text/plain": [
       "             2                       2\n",
       "            d              ⎛d       ⎞ \n",
       "- 2.0⋅R(t)⋅───(R(t)) - 1.0⋅⎜──(R(t))⎟ \n",
       "             2             ⎝dt      ⎠ \n",
       "           dt                         "
      ]
     },
     "execution_count": 19,
     "metadata": {},
     "output_type": "execute_result"
    }
   ],
   "source": [
    "simplify(Einstein_Equation_ab(d,u,g,gin,1,1))"
   ]
  },
  {
   "cell_type": "code",
   "execution_count": null,
   "metadata": {
    "collapsed": true
   },
   "outputs": [],
   "source": []
  }
 ],
 "metadata": {
  "anaconda-cloud": {},
  "kernelspec": {
   "display_name": "Python [conda root]",
   "language": "python",
   "name": "conda-root-py"
  },
  "language_info": {
   "codemirror_mode": {
    "name": "ipython",
    "version": 3
   },
   "file_extension": ".py",
   "mimetype": "text/x-python",
   "name": "python",
   "nbconvert_exporter": "python",
   "pygments_lexer": "ipython3",
   "version": "3.5.2"
  }
 },
 "nbformat": 4,
 "nbformat_minor": 1
}
