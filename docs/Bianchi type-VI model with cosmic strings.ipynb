{
 "cells": [
  {
   "cell_type": "code",
   "execution_count": 24,
   "metadata": {
    "collapsed": true
   },
   "outputs": [],
   "source": [
    "from GrTiPy import *\n",
    "init_printing()"
   ]
  },
  {
   "cell_type": "code",
   "execution_count": 25,
   "metadata": {
    "collapsed": true
   },
   "outputs": [],
   "source": [
    "d=4\n",
    "t, x, y, z, n, m= symbols('t x y z n m')\n",
    "u=np.array([t, x, y, z])\n",
    "a_1 = Function('a_1')(t)\n",
    "a_2 = Function('a_2')(t)\n",
    "a_3 = Function('a_3')(t)"
   ]
  },
  {
   "cell_type": "code",
   "execution_count": 26,
   "metadata": {
    "collapsed": false
   },
   "outputs": [
    {
     "data": {
      "image/png": "[encoded data removed]",
      "text/latex": [
       "$$\\operatorname{a_{1}}{\\left (t \\right )}$$"
      ],
      "text/plain": [
       "a₁(t)"
      ]
     },
     "execution_count": 26,
     "metadata": {},
     "output_type": "execute_result"
    }
   ],
   "source": [
    "a_1"
   ]
  },
  {
   "cell_type": "code",
   "execution_count": 27,
   "metadata": {
    "collapsed": true
   },
   "outputs": [],
   "source": [
    "g00 =  1\n",
    "g11 =  -a_1**2*exp(-2*m*z)\n",
    "g22 =  -a_2**2*exp(2*n*z)\n",
    "g33 =  -a_3**2\n",
    "g=np.array([[g00,0,0,0],[0,g11,0,0],\\\n",
    "            [0,0,g22,0],[0,0,0,g33]])\n",
    "gin=inverse_metric(g)"
   ]
  },
  {
   "cell_type": "code",
   "execution_count": 28,
   "metadata": {
    "collapsed": false
   },
   "outputs": [
    {
     "data": {
      "image/png": "[encoded data removed]",
      "text/latex": [
       "$$\\frac{\\frac{d}{d t} \\operatorname{a_{1}}{\\left (t \\right )}}{\\operatorname{a_{1}}{\\left (t \\right )}}$$"
      ],
      "text/plain": [
       "d        \n",
       "──(a₁(t))\n",
       "dt       \n",
       "─────────\n",
       "  a₁(t)  "
      ]
     },
     "execution_count": 28,
     "metadata": {},
     "output_type": "execute_result"
    }
   ],
   "source": [
    "Christoffel_n_ab(d,u,g,gin,1,0,1)"
   ]
  },
  {
   "cell_type": "code",
   "execution_count": 29,
   "metadata": {
    "collapsed": false
   },
   "outputs": [
    {
     "data": {
      "image/png": "[encoded data removed]",
      "text/latex": [
       "$$\\frac{\\frac{d}{d t} \\operatorname{a_{2}}{\\left (t \\right )}}{\\operatorname{a_{2}}{\\left (t \\right )}}$$"
      ],
      "text/plain": [
       "d        \n",
       "──(a₂(t))\n",
       "dt       \n",
       "─────────\n",
       "  a₂(t)  "
      ]
     },
     "execution_count": 29,
     "metadata": {},
     "output_type": "execute_result"
    }
   ],
   "source": [
    "Christoffel_n_ab(d,u,g,gin,2,0,2)"
   ]
  },
  {
   "cell_type": "code",
   "execution_count": 30,
   "metadata": {
    "collapsed": false
   },
   "outputs": [
    {
     "data": {
      "image/png": "[encoded data removed]",
      "text/latex": [
       "$$\\frac{\\frac{d}{d t} \\operatorname{a_{3}}{\\left (t \\right )}}{\\operatorname{a_{3}}{\\left (t \\right )}}$$"
      ],
      "text/plain": [
       "d        \n",
       "──(a₃(t))\n",
       "dt       \n",
       "─────────\n",
       "  a₃(t)  "
      ]
     },
     "execution_count": 30,
     "metadata": {},
     "output_type": "execute_result"
    }
   ],
   "source": [
    "Christoffel_n_ab(d,u,g,gin,3,0,3)"
   ]
  },
  {
   "cell_type": "code",
   "execution_count": 31,
   "metadata": {
    "collapsed": false
   },
   "outputs": [
    {
     "data": {
      "image/png": "[encoded data removed]",
      "text/latex": [
       "$$\\operatorname{a_{1}}{\\left (t \\right )} e^{- 2 m z} \\frac{d}{d t} \\operatorname{a_{1}}{\\left (t \\right )}$$"
      ],
      "text/plain": [
       "       -2⋅m⋅z d        \n",
       "a₁(t)⋅ℯ      ⋅──(a₁(t))\n",
       "              dt       "
      ]
     },
     "execution_count": 31,
     "metadata": {},
     "output_type": "execute_result"
    }
   ],
   "source": [
    "Christoffel_n_ab(d,u,g,gin,0,1,1)"
   ]
  },
  {
   "cell_type": "code",
   "execution_count": 32,
   "metadata": {
    "collapsed": false
   },
   "outputs": [
    {
     "data": {
      "image/png": "[encoded data removed]",
      "text/latex": [
       "$$\\operatorname{a_{2}}{\\left (t \\right )} e^{2 n z} \\frac{d}{d t} \\operatorname{a_{2}}{\\left (t \\right )}$$"
      ],
      "text/plain": [
       "       2⋅n⋅z d        \n",
       "a₂(t)⋅ℯ     ⋅──(a₂(t))\n",
       "             dt       "
      ]
     },
     "execution_count": 32,
     "metadata": {},
     "output_type": "execute_result"
    }
   ],
   "source": [
    "Christoffel_n_ab(d,u,g,gin,0,2,2)"
   ]
  },
  {
   "cell_type": "code",
   "execution_count": 33,
   "metadata": {
    "collapsed": false
   },
   "outputs": [
    {
     "data": {
      "image/png": "[encoded data removed]",
      "text/latex": [
       "$$\\operatorname{a_{3}}{\\left (t \\right )} \\frac{d}{d t} \\operatorname{a_{3}}{\\left (t \\right )}$$"
      ],
      "text/plain": [
       "      d        \n",
       "a₃(t)⋅──(a₃(t))\n",
       "      dt       "
      ]
     },
     "execution_count": 33,
     "metadata": {},
     "output_type": "execute_result"
    }
   ],
   "source": [
    "Christoffel_n_ab(d,u,g,gin,0,3,3)"
   ]
  },
  {
   "cell_type": "code",
   "execution_count": 34,
   "metadata": {
    "collapsed": false
   },
   "outputs": [
    {
     "data": {
      "image/png": "[encoded data removed]",
      "text/latex": [
       "$$- m$$"
      ],
      "text/plain": [
       "-m"
      ]
     },
     "execution_count": 34,
     "metadata": {},
     "output_type": "execute_result"
    }
   ],
   "source": [
    "Christoffel_n_ab(d,u,g,gin,1,3,1)"
   ]
  },
  {
   "cell_type": "code",
   "execution_count": 36,
   "metadata": {
    "collapsed": false
   },
   "outputs": [
    {
     "data": {
      "image/png": "[encoded data removed]",
      "text/latex": [
       "$$- \\frac{n \\operatorname{a_{2}}^{2}{\\left (t \\right )} e^{2 n z}}{\\operatorname{a_{3}}^{2}{\\left (t \\right )}}$$"
      ],
      "text/plain": [
       "     2     2⋅n⋅z \n",
       "-n⋅a₂ (t)⋅ℯ      \n",
       "─────────────────\n",
       "        2        \n",
       "      a₃ (t)     "
      ]
     },
     "execution_count": 36,
     "metadata": {},
     "output_type": "execute_result"
    }
   ],
   "source": [
    "Christoffel_n_ab(d,u,g,gin,3,2,2)"
   ]
  },
  {
   "cell_type": "code",
   "execution_count": 37,
   "metadata": {
    "collapsed": true
   },
   "outputs": [],
   "source": [
    "def R(d,u,g,gin,a,b):\n",
    "    sum=0.0\n",
    "    for i in range(d):\n",
    "        sum=sum+gin[a][i]*Ricci_Tensor_ab(d,u,g,gin,i,b)\n",
    "    return sum"
   ]
  },
  {
   "cell_type": "code",
   "execution_count": 38,
   "metadata": {
    "collapsed": false
   },
   "outputs": [
    {
     "data": {
      "image/png": "[encoded data removed]",
      "text/latex": [
       "$$- \\frac{m \\frac{d}{d t} \\operatorname{a_{3}}{\\left (t \\right )}}{\\operatorname{a_{3}}{\\left (t \\right )}} + \\frac{m \\frac{d}{d t} \\operatorname{a_{1}}{\\left (t \\right )}}{\\operatorname{a_{1}}{\\left (t \\right )}} + \\frac{n \\frac{d}{d t} \\operatorname{a_{3}}{\\left (t \\right )}}{\\operatorname{a_{3}}{\\left (t \\right )}} - \\frac{n \\frac{d}{d t} \\operatorname{a_{2}}{\\left (t \\right )}}{\\operatorname{a_{2}}{\\left (t \\right )}}$$"
      ],
      "text/plain": [
       "    d             d             d             d        \n",
       "  m⋅──(a₃(t))   m⋅──(a₁(t))   n⋅──(a₃(t))   n⋅──(a₂(t))\n",
       "    dt            dt            dt            dt       \n",
       "- ─────────── + ─────────── + ─────────── - ───────────\n",
       "     a₃(t)         a₁(t)         a₃(t)         a₂(t)   "
      ]
     },
     "execution_count": 38,
     "metadata": {},
     "output_type": "execute_result"
    }
   ],
   "source": [
    "R(d,u,g,gin,0,3)"
   ]
  },
  {
   "cell_type": "code",
   "execution_count": 39,
   "metadata": {
    "collapsed": false
   },
   "outputs": [
    {
     "data": {
      "image/png": "[encoded data removed]",
      "text/latex": [
       "$$- \\frac{\\frac{d^{2}}{d t^{2}}  \\operatorname{a_{3}}{\\left (t \\right )}}{\\operatorname{a_{3}}{\\left (t \\right )}} - \\frac{\\frac{d^{2}}{d t^{2}}  \\operatorname{a_{2}}{\\left (t \\right )}}{\\operatorname{a_{2}}{\\left (t \\right )}} - \\frac{\\frac{d^{2}}{d t^{2}}  \\operatorname{a_{1}}{\\left (t \\right )}}{\\operatorname{a_{1}}{\\left (t \\right )}}$$"
      ],
      "text/plain": [
       "    2            2            2       \n",
       "   d            d            d        \n",
       "  ───(a₃(t))   ───(a₂(t))   ───(a₁(t))\n",
       "    2            2            2       \n",
       "  dt           dt           dt        \n",
       "- ────────── - ────────── - ──────────\n",
       "    a₃(t)        a₂(t)        a₁(t)   "
      ]
     },
     "execution_count": 39,
     "metadata": {},
     "output_type": "execute_result"
    }
   ],
   "source": [
    "R(d,u,g,gin,0,0)"
   ]
  },
  {
   "cell_type": "code",
   "execution_count": 40,
   "metadata": {
    "collapsed": false
   },
   "outputs": [
    {
     "data": {
      "image/png": "[encoded data removed]",
      "text/latex": [
       "$$- \\frac{1}{\\operatorname{a_{1}}{\\left (t \\right )} \\operatorname{a_{2}}{\\left (t \\right )} \\operatorname{a_{3}}^{2}{\\left (t \\right )}} \\left(m \\left(- m + n\\right) \\operatorname{a_{1}}{\\left (t \\right )} \\operatorname{a_{2}}{\\left (t \\right )} + \\operatorname{a_{2}}{\\left (t \\right )} \\operatorname{a_{3}}^{2}{\\left (t \\right )} \\frac{d^{2}}{d t^{2}}  \\operatorname{a_{1}}{\\left (t \\right )} + \\operatorname{a_{2}}{\\left (t \\right )} \\operatorname{a_{3}}{\\left (t \\right )} \\frac{d}{d t} \\operatorname{a_{1}}{\\left (t \\right )} \\frac{d}{d t} \\operatorname{a_{3}}{\\left (t \\right )} + \\operatorname{a_{3}}^{2}{\\left (t \\right )} \\frac{d}{d t} \\operatorname{a_{1}}{\\left (t \\right )} \\frac{d}{d t} \\operatorname{a_{2}}{\\left (t \\right )}\\right)$$"
      ],
      "text/plain": [
       " ⎛                                        2                                   \n",
       " ⎜                                 2     d                       d         d  \n",
       "-⎜m⋅(-m + n)⋅a₁(t)⋅a₂(t) + a₂(t)⋅a₃ (t)⋅───(a₁(t)) + a₂(t)⋅a₃(t)⋅──(a₁(t))⋅──(\n",
       " ⎜                                        2                      dt        dt \n",
       " ⎝                                      dt                                    \n",
       "──────────────────────────────────────────────────────────────────────────────\n",
       "                                                               2              \n",
       "                                                 a₁(t)⋅a₂(t)⋅a₃ (t)           \n",
       "\n",
       "                                   ⎞ \n",
       "           2    d         d        ⎟ \n",
       "a₃(t)) + a₃ (t)⋅──(a₁(t))⋅──(a₂(t))⎟ \n",
       "                dt        dt       ⎟ \n",
       "                                   ⎠ \n",
       "─────────────────────────────────────\n",
       "                                     \n",
       "                                     "
      ]
     },
     "execution_count": 40,
     "metadata": {},
     "output_type": "execute_result"
    }
   ],
   "source": [
    "R(d,u,g,gin,1,1)"
   ]
  },
  {
   "cell_type": "code",
   "execution_count": 41,
   "metadata": {
    "collapsed": false
   },
   "outputs": [
    {
     "data": {
      "image/png": "[encoded data removed]",
      "text/latex": [
       "$$\\frac{2 m^{2}}{\\operatorname{a_{3}}^{2}{\\left (t \\right )}} - \\frac{2 m n}{\\operatorname{a_{3}}^{2}{\\left (t \\right )}} + \\frac{2 n^{2}}{\\operatorname{a_{3}}^{2}{\\left (t \\right )}} - \\frac{2 \\frac{d^{2}}{d t^{2}}  \\operatorname{a_{3}}{\\left (t \\right )}}{\\operatorname{a_{3}}{\\left (t \\right )}} - \\frac{2 \\frac{d^{2}}{d t^{2}}  \\operatorname{a_{2}}{\\left (t \\right )}}{\\operatorname{a_{2}}{\\left (t \\right )}} - \\frac{2 \\frac{d}{d t} \\operatorname{a_{2}}{\\left (t \\right )} \\frac{d}{d t} \\operatorname{a_{3}}{\\left (t \\right )}}{\\operatorname{a_{2}}{\\left (t \\right )} \\operatorname{a_{3}}{\\left (t \\right )}} - \\frac{2 \\frac{d^{2}}{d t^{2}}  \\operatorname{a_{1}}{\\left (t \\right )}}{\\operatorname{a_{1}}{\\left (t \\right )}} - \\frac{2 \\frac{d}{d t} \\operatorname{a_{1}}{\\left (t \\right )} \\frac{d}{d t} \\operatorname{a_{3}}{\\left (t \\right )}}{\\operatorname{a_{1}}{\\left (t \\right )} \\operatorname{a_{3}}{\\left (t \\right )}} - \\frac{2 \\frac{d}{d t} \\operatorname{a_{1}}{\\left (t \\right )} \\frac{d}{d t} \\operatorname{a_{2}}{\\left (t \\right )}}{\\operatorname{a_{1}}{\\left (t \\right )} \\operatorname{a_{2}}{\\left (t \\right )}}$$"
      ],
      "text/plain": [
       "                               2              2                               \n",
       "                              d              d                                \n",
       "                           2⋅───(a₃(t))   2⋅───(a₂(t))     d         d        \n",
       "    2                 2        2              2          2⋅──(a₂(t))⋅──(a₃(t))\n",
       " 2⋅m     2⋅m⋅n     2⋅n       dt             dt             dt        dt       \n",
       "────── - ────── + ────── - ──────────── - ──────────── - ─────────────────────\n",
       "  2        2        2         a₃(t)          a₂(t)            a₂(t)⋅a₃(t)     \n",
       "a₃ (t)   a₃ (t)   a₃ (t)                                                      \n",
       "\n",
       "       2                                                       \n",
       "      d                                                        \n",
       "   2⋅───(a₁(t))     d         d             d         d        \n",
       "       2          2⋅──(a₁(t))⋅──(a₃(t))   2⋅──(a₁(t))⋅──(a₂(t))\n",
       "     dt             dt        dt            dt        dt       \n",
       " - ──────────── - ───────────────────── - ─────────────────────\n",
       "      a₁(t)            a₁(t)⋅a₃(t)             a₁(t)⋅a₂(t)     \n",
       "                                                               "
      ]
     },
     "execution_count": 41,
     "metadata": {},
     "output_type": "execute_result"
    }
   ],
   "source": [
    "simplify(Ricci_scalar(d,u,g,gin))"
   ]
  },
  {
   "cell_type": "code",
   "execution_count": 42,
   "metadata": {
    "collapsed": true
   },
   "outputs": [],
   "source": [
    "V= np.array([1,0,0,0,0])"
   ]
  },
  {
   "cell_type": "code",
   "execution_count": 43,
   "metadata": {
    "collapsed": false
   },
   "outputs": [
    {
     "data": {
      "image/png": "[encoded data removed]",
      "text/latex": [
       "$$\\frac{1.0 \\frac{d}{d t} \\operatorname{a_{3}}{\\left (t \\right )}}{\\operatorname{a_{3}}{\\left (t \\right )}} + \\frac{1.0 \\frac{d}{d t} \\operatorname{a_{2}}{\\left (t \\right )}}{\\operatorname{a_{2}}{\\left (t \\right )}} + \\frac{1.0 \\frac{d}{d t} \\operatorname{a_{1}}{\\left (t \\right )}}{\\operatorname{a_{1}}{\\left (t \\right )}}$$"
      ],
      "text/plain": [
       "    d               d               d        \n",
       "1.0⋅──(a₃(t))   1.0⋅──(a₂(t))   1.0⋅──(a₁(t))\n",
       "    dt              dt              dt       \n",
       "───────────── + ───────────── + ─────────────\n",
       "    a₃(t)           a₂(t)           a₁(t)    "
      ]
     },
     "execution_count": 43,
     "metadata": {},
     "output_type": "execute_result"
    }
   ],
   "source": [
    "expansion_scalar(d,u,g,gin,V)"
   ]
  },
  {
   "cell_type": "code",
   "execution_count": 52,
   "metadata": {
    "collapsed": false
   },
   "outputs": [
    {
     "data": {
      "image/png": "[encoded data removed]",
      "text/latex": [
       "$$- \\frac{1.0 \\operatorname{a_{1}}{\\left (t \\right )} e^{- 2 m z}}{\\operatorname{a_{2}}{\\left (t \\right )} \\operatorname{a_{3}}{\\left (t \\right )}} \\left(- 1.0 \\operatorname{a_{1}}{\\left (t \\right )} \\operatorname{a_{2}}{\\left (t \\right )} \\frac{d}{d t} \\operatorname{a_{3}}{\\left (t \\right )} - 1.0 \\operatorname{a_{1}}{\\left (t \\right )} \\operatorname{a_{3}}{\\left (t \\right )} \\frac{d}{d t} \\operatorname{a_{2}}{\\left (t \\right )} + 2.0 \\operatorname{a_{2}}{\\left (t \\right )} \\operatorname{a_{3}}{\\left (t \\right )} \\frac{d}{d t} \\operatorname{a_{1}}{\\left (t \\right )}\\right)$$"
      ],
      "text/plain": [
       "     ⎛                  d                           d                         \n",
       "-1.0⋅⎜- 1.0⋅a₁(t)⋅a₂(t)⋅──(a₃(t)) - 1.0⋅a₁(t)⋅a₃(t)⋅──(a₂(t)) + 2.0⋅a₂(t)⋅a₃(t\n",
       "     ⎝                  dt                          dt                        \n",
       "──────────────────────────────────────────────────────────────────────────────\n",
       "                                               a₂(t)⋅a₃(t)                    \n",
       "\n",
       "  d        ⎞        -2⋅m⋅z \n",
       ")⋅──(a₁(t))⎟⋅a₁(t)⋅ℯ       \n",
       "  dt       ⎠               \n",
       "───────────────────────────\n",
       "                           "
      ]
     },
     "execution_count": 52,
     "metadata": {},
     "output_type": "execute_result"
    }
   ],
   "source": [
    "factor(shear_tensor_ab(d,u,g,gin,V,1,1)*3)"
   ]
  },
  {
   "cell_type": "code",
   "execution_count": 53,
   "metadata": {
    "collapsed": false
   },
   "outputs": [
    {
     "data": {
      "image/png": "[encoded data removed]",
      "text/latex": [
       "$$\\frac{1.0 \\operatorname{a_{3}}{\\left (t \\right )}}{\\operatorname{a_{1}}{\\left (t \\right )} \\operatorname{a_{2}}{\\left (t \\right )}} \\left(- 2.0 \\operatorname{a_{1}}{\\left (t \\right )} \\operatorname{a_{2}}{\\left (t \\right )} \\frac{d}{d t} \\operatorname{a_{3}}{\\left (t \\right )} + 1.0 \\operatorname{a_{1}}{\\left (t \\right )} \\operatorname{a_{3}}{\\left (t \\right )} \\frac{d}{d t} \\operatorname{a_{2}}{\\left (t \\right )} + 1.0 \\operatorname{a_{2}}{\\left (t \\right )} \\operatorname{a_{3}}{\\left (t \\right )} \\frac{d}{d t} \\operatorname{a_{1}}{\\left (t \\right )}\\right)$$"
      ],
      "text/plain": [
       "    ⎛                  d                           d                          \n",
       "1.0⋅⎜- 2.0⋅a₁(t)⋅a₂(t)⋅──(a₃(t)) + 1.0⋅a₁(t)⋅a₃(t)⋅──(a₂(t)) + 1.0⋅a₂(t)⋅a₃(t)\n",
       "    ⎝                  dt                          dt                         \n",
       "──────────────────────────────────────────────────────────────────────────────\n",
       "                                          a₁(t)⋅a₂(t)                         \n",
       "\n",
       " d        ⎞      \n",
       "⋅──(a₁(t))⎟⋅a₃(t)\n",
       " dt       ⎠      \n",
       "─────────────────\n",
       "                 "
      ]
     },
     "execution_count": 53,
     "metadata": {},
     "output_type": "execute_result"
    }
   ],
   "source": [
    "factor(shear_tensor_ab(d,u,g,gin,V,3,3)*3)"
   ]
  },
  {
   "cell_type": "code",
   "execution_count": 54,
   "metadata": {
    "collapsed": false
   },
   "outputs": [
    {
     "data": {
      "image/png": "[encoded data removed]",
      "text/latex": [
       "$$- \\frac{1}{\\operatorname{a_{3}}^{2}{\\left (t \\right )}} \\left(- m^{2} - n^{2} + \\operatorname{a_{3}}{\\left (t \\right )} \\frac{d^{2}}{d t^{2}}  \\operatorname{a_{3}}{\\left (t \\right )} + \\frac{\\frac{d}{d t} \\operatorname{a_{2}}{\\left (t \\right )}}{\\operatorname{a_{2}}{\\left (t \\right )}} \\operatorname{a_{3}}{\\left (t \\right )} \\frac{d}{d t} \\operatorname{a_{3}}{\\left (t \\right )} + \\frac{\\frac{d}{d t} \\operatorname{a_{1}}{\\left (t \\right )}}{\\operatorname{a_{1}}{\\left (t \\right )}} \\operatorname{a_{3}}{\\left (t \\right )} \\frac{d}{d t} \\operatorname{a_{3}}{\\left (t \\right )}\\right)$$"
      ],
      "text/plain": [
       " ⎛                                     d         d                 d         d\n",
       " ⎜                    2          a₃(t)⋅──(a₂(t))⋅──(a₃(t))   a₃(t)⋅──(a₁(t))⋅─\n",
       " ⎜   2    2          d                 dt        dt                dt        d\n",
       "-⎜- m  - n  + a₃(t)⋅───(a₃(t)) + ───────────────────────── + ─────────────────\n",
       " ⎜                    2                    a₂(t)                       a₁(t)  \n",
       " ⎝                  dt                                                        \n",
       "──────────────────────────────────────────────────────────────────────────────\n",
       "                                           2                                  \n",
       "                                         a₃ (t)                               \n",
       "\n",
       "        ⎞ \n",
       "─(a₃(t))⎟ \n",
       "t       ⎟ \n",
       "────────⎟ \n",
       "        ⎟ \n",
       "        ⎠ \n",
       "──────────\n",
       "          \n",
       "          "
      ]
     },
     "execution_count": 54,
     "metadata": {},
     "output_type": "execute_result"
    }
   ],
   "source": [
    "R(d,u,g,gin,3,3)"
   ]
  },
  {
   "cell_type": "code",
   "execution_count": 55,
   "metadata": {
    "collapsed": true
   },
   "outputs": [],
   "source": [
    "def G(d,u,g,gin,a,b):\n",
    "    SumG=0.0\n",
    "    for i in range(d):\n",
    "        SumG=SumG+gin[a][i]*\\\n",
    "        Einstein_Equation_ab(d,u,g,gin,i,b)\n",
    "    return SumG"
   ]
  },
  {
   "cell_type": "code",
   "execution_count": 56,
   "metadata": {
    "collapsed": false
   },
   "outputs": [
    {
     "data": {
      "image/png": "[encoded data removed]",
      "text/latex": [
       "$$- \\frac{1.0 m^{2}}{\\operatorname{a_{3}}^{2}{\\left (t \\right )}} + \\frac{1.0 m n}{\\operatorname{a_{3}}^{2}{\\left (t \\right )}} - \\frac{1.0 n^{2}}{\\operatorname{a_{3}}^{2}{\\left (t \\right )}} + \\frac{1.0 \\frac{d}{d t} \\operatorname{a_{2}}{\\left (t \\right )} \\frac{d}{d t} \\operatorname{a_{3}}{\\left (t \\right )}}{\\operatorname{a_{2}}{\\left (t \\right )} \\operatorname{a_{3}}{\\left (t \\right )}} + \\frac{1.0 \\frac{d}{d t} \\operatorname{a_{1}}{\\left (t \\right )} \\frac{d}{d t} \\operatorname{a_{3}}{\\left (t \\right )}}{\\operatorname{a_{1}}{\\left (t \\right )} \\operatorname{a_{3}}{\\left (t \\right )}} + \\frac{1.0 \\frac{d}{d t} \\operatorname{a_{1}}{\\left (t \\right )} \\frac{d}{d t} \\operatorname{a_{2}}{\\left (t \\right )}}{\\operatorname{a_{1}}{\\left (t \\right )} \\operatorname{a_{2}}{\\left (t \\right )}}$$"
      ],
      "text/plain": [
       "                                  d         d               d         d       \n",
       "       2                  2   1.0⋅──(a₂(t))⋅──(a₃(t))   1.0⋅──(a₁(t))⋅──(a₃(t)\n",
       "  1.0⋅m    1.0⋅m⋅n   1.0⋅n        dt        dt              dt        dt      \n",
       "- ────── + ─────── - ────── + ─────────────────────── + ──────────────────────\n",
       "    2         2        2            a₂(t)⋅a₃(t)               a₁(t)⋅a₃(t)     \n",
       "  a₃ (t)    a₃ (t)   a₃ (t)                                                   \n",
       "\n",
       "        d         d        \n",
       ")   1.0⋅──(a₁(t))⋅──(a₂(t))\n",
       "        dt        dt       \n",
       "─ + ───────────────────────\n",
       "          a₁(t)⋅a₂(t)      \n",
       "                           "
      ]
     },
     "execution_count": 56,
     "metadata": {},
     "output_type": "execute_result"
    }
   ],
   "source": [
    "simplify(G(d,u,g,gin,0,0))"
   ]
  },
  {
   "cell_type": "code",
   "execution_count": 57,
   "metadata": {
    "collapsed": false
   },
   "outputs": [
    {
     "data": {
      "image/png": "[encoded data removed]",
      "text/latex": [
       "$$- \\frac{1.0 n^{2}}{\\operatorname{a_{3}}^{2}{\\left (t \\right )}} + \\frac{1.0 \\frac{d^{2}}{d t^{2}}  \\operatorname{a_{3}}{\\left (t \\right )}}{\\operatorname{a_{3}}{\\left (t \\right )}} + \\frac{1.0 \\frac{d^{2}}{d t^{2}}  \\operatorname{a_{2}}{\\left (t \\right )}}{\\operatorname{a_{2}}{\\left (t \\right )}} + \\frac{1.0 \\frac{d}{d t} \\operatorname{a_{2}}{\\left (t \\right )} \\frac{d}{d t} \\operatorname{a_{3}}{\\left (t \\right )}}{\\operatorname{a_{2}}{\\left (t \\right )} \\operatorname{a_{3}}{\\left (t \\right )}}$$"
      ],
      "text/plain": [
       "                 2                2                                 \n",
       "                d                d                                  \n",
       "           1.0⋅───(a₃(t))   1.0⋅───(a₂(t))       d         d        \n",
       "       2         2                2          1.0⋅──(a₂(t))⋅──(a₃(t))\n",
       "  1.0⋅n        dt               dt               dt        dt       \n",
       "- ────── + ────────────── + ────────────── + ───────────────────────\n",
       "    2          a₃(t)            a₂(t)              a₂(t)⋅a₃(t)      \n",
       "  a₃ (t)                                                            "
      ]
     },
     "execution_count": 57,
     "metadata": {},
     "output_type": "execute_result"
    }
   ],
   "source": [
    "simplify(G(d,u,g,gin,1,1))"
   ]
  },
  {
   "cell_type": "code",
   "execution_count": 58,
   "metadata": {
    "collapsed": false
   },
   "outputs": [
    {
     "data": {
      "image/png": "[encoded data removed]",
      "text/latex": [
       "$$- \\frac{1.0 m^{2}}{\\operatorname{a_{3}}^{2}{\\left (t \\right )}} + \\frac{1.0 \\frac{d^{2}}{d t^{2}}  \\operatorname{a_{3}}{\\left (t \\right )}}{\\operatorname{a_{3}}{\\left (t \\right )}} + \\frac{1.0 \\frac{d^{2}}{d t^{2}}  \\operatorname{a_{1}}{\\left (t \\right )}}{\\operatorname{a_{1}}{\\left (t \\right )}} + \\frac{1.0 \\frac{d}{d t} \\operatorname{a_{1}}{\\left (t \\right )} \\frac{d}{d t} \\operatorname{a_{3}}{\\left (t \\right )}}{\\operatorname{a_{1}}{\\left (t \\right )} \\operatorname{a_{3}}{\\left (t \\right )}}$$"
      ],
      "text/plain": [
       "                 2                2                                 \n",
       "                d                d                                  \n",
       "           1.0⋅───(a₃(t))   1.0⋅───(a₁(t))       d         d        \n",
       "       2         2                2          1.0⋅──(a₁(t))⋅──(a₃(t))\n",
       "  1.0⋅m        dt               dt               dt        dt       \n",
       "- ────── + ────────────── + ────────────── + ───────────────────────\n",
       "    2          a₃(t)            a₁(t)              a₁(t)⋅a₃(t)      \n",
       "  a₃ (t)                                                            "
      ]
     },
     "execution_count": 58,
     "metadata": {},
     "output_type": "execute_result"
    }
   ],
   "source": [
    "simplify(G(d,u,g,gin,2,2))"
   ]
  },
  {
   "cell_type": "code",
   "execution_count": 59,
   "metadata": {
    "collapsed": false
   },
   "outputs": [
    {
     "data": {
      "image/png": "[encoded data removed]",
      "text/latex": [
       "$$\\frac{1.0 m n}{\\operatorname{a_{3}}^{2}{\\left (t \\right )}} + \\frac{1.0 \\frac{d^{2}}{d t^{2}}  \\operatorname{a_{2}}{\\left (t \\right )}}{\\operatorname{a_{2}}{\\left (t \\right )}} + \\frac{1.0 \\frac{d^{2}}{d t^{2}}  \\operatorname{a_{1}}{\\left (t \\right )}}{\\operatorname{a_{1}}{\\left (t \\right )}} + \\frac{1.0 \\frac{d}{d t} \\operatorname{a_{1}}{\\left (t \\right )} \\frac{d}{d t} \\operatorname{a_{2}}{\\left (t \\right )}}{\\operatorname{a_{1}}{\\left (t \\right )} \\operatorname{a_{2}}{\\left (t \\right )}}$$"
      ],
      "text/plain": [
       "                2                2                                 \n",
       "               d                d                                  \n",
       "          1.0⋅───(a₂(t))   1.0⋅───(a₁(t))       d         d        \n",
       "                2                2          1.0⋅──(a₁(t))⋅──(a₂(t))\n",
       "1.0⋅m⋅n       dt               dt               dt        dt       \n",
       "─────── + ────────────── + ────────────── + ───────────────────────\n",
       "   2          a₂(t)            a₁(t)              a₁(t)⋅a₂(t)      \n",
       " a₃ (t)                                                            "
      ]
     },
     "execution_count": 59,
     "metadata": {},
     "output_type": "execute_result"
    }
   ],
   "source": [
    "simplify(G(d,u,g,gin,3,3))"
   ]
  },
  {
   "cell_type": "code",
   "execution_count": 60,
   "metadata": {
    "collapsed": false
   },
   "outputs": [
    {
     "data": {
      "image/png": "[encoded data removed]",
      "text/latex": [
       "$$- \\frac{m \\frac{d}{d t} \\operatorname{a_{3}}{\\left (t \\right )}}{\\operatorname{a_{3}}{\\left (t \\right )}} + \\frac{m \\frac{d}{d t} \\operatorname{a_{1}}{\\left (t \\right )}}{\\operatorname{a_{1}}{\\left (t \\right )}} + \\frac{n \\frac{d}{d t} \\operatorname{a_{3}}{\\left (t \\right )}}{\\operatorname{a_{3}}{\\left (t \\right )}} - \\frac{n \\frac{d}{d t} \\operatorname{a_{2}}{\\left (t \\right )}}{\\operatorname{a_{2}}{\\left (t \\right )}}$$"
      ],
      "text/plain": [
       "    d             d             d             d        \n",
       "  m⋅──(a₃(t))   m⋅──(a₁(t))   n⋅──(a₃(t))   n⋅──(a₂(t))\n",
       "    dt            dt            dt            dt       \n",
       "- ─────────── + ─────────── + ─────────── - ───────────\n",
       "     a₃(t)         a₁(t)         a₃(t)         a₂(t)   "
      ]
     },
     "execution_count": 60,
     "metadata": {},
     "output_type": "execute_result"
    }
   ],
   "source": [
    "simplify(G(d,u,g,gin,0,3))"
   ]
  },
  {
   "cell_type": "code",
   "execution_count": null,
   "metadata": {
    "collapsed": true
   },
   "outputs": [],
   "source": []
  }
 ],
 "metadata": {
  "anaconda-cloud": {},
  "kernelspec": {
   "display_name": "Python [conda root]",
   "language": "python",
   "name": "conda-root-py"
  },
  "language_info": {
   "codemirror_mode": {
    "name": "ipython",
    "version": 3
   },
   "file_extension": ".py",
   "mimetype": "text/x-python",
   "name": "python",
   "nbconvert_exporter": "python",
   "pygments_lexer": "ipython3",
   "version": "3.5.2"
  }
 },
 "nbformat": 4,
 "nbformat_minor": 1
}
